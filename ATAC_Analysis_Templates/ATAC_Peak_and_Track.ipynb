{
 "cells": [
  {
   "cell_type": "code",
   "execution_count": 1,
   "source": [
    "%load_ext lab_black\n",
    "import subprocess, os\n",
    "import pandas as pd"
   ],
   "outputs": [],
   "metadata": {}
  },
  {
   "cell_type": "markdown",
   "source": [
    "# Input and Parameters"
   ],
   "metadata": {
    "tags": []
   }
  },
  {
   "cell_type": "code",
   "execution_count": 2,
   "source": [
    "# MODIFY THIS CELL\n",
    "\n",
    "# system control\n",
    "env_bin = \"/home/coco/miniconda3/envs/cut_run/bin/\"\n",
    "num_cpus = 30\n",
    "\n",
    "# sample name: give more detailed, cell type, experiment, targets etc...\n",
    "out_prefix = \"E14_Brg1FV_ATAC_0hr_Rep2\"\n",
    "\n",
    "# FASTQ input paths\n",
    "R1 = \"HL31_0404_S62_L004_R1_001.fastq.gz\"\n",
    "R2 = \"HL31_0404_S62_L004_R2_001.fastq.gz\"\n",
    "\n",
    "# adaptor sequence for Trimmomatic\n",
    "adaptor_seq_fa = \"/Extension_HDD2/Hanbin/ES_Cell/E14/ATAC/NexteraPE-PE.fa\"\n",
    "\n",
    "# bowtie2 mapping setup\n",
    "genome_index = \"/home/software/bowtie2-2.2.9/genome/mm10/mm10\"\n",
    "\n",
    "# fragment size\n",
    "low, high = 0, 200\n",
    "\n",
    "# server for bigwig\n",
    "url = \"http://unzip.4d-genome.com:8080/E14_Brg1FV_ATAC/\"\n",
    "webdir = \"/usr/local/apache2/htdocs/E14_Brg1FV_ATAC/\"\n",
    "\n",
    "# MACS2 call peak parameters\n",
    "# keep_dup = 3\n",
    "macs2_genome = \"mm\""
   ],
   "outputs": [],
   "metadata": {}
  },
  {
   "cell_type": "markdown",
   "source": [
    "# Trim Adaptor PE Mode"
   ],
   "metadata": {
    "tags": []
   }
  },
  {
   "cell_type": "code",
   "execution_count": 3,
   "source": [
    "R1_paired_trimmed = f\"{out_prefix}_1.pair.fastq\"\n",
    "R2_paired_trimmed = f\"{out_prefix}_2.pair.fastq\"\n",
    "R1_unpaired_trimmed = f\"{out_prefix}_1.unpair.fastq\"\n",
    "R2_unpaired_trimmed = f\"{out_prefix}_2.unpair.fastq\"\n",
    "\n",
    "if R1.endswith(\"gz\"):\n",
    "    R1_paired_trimmed += \".gz\"\n",
    "    R2_paired_trimmed += \".gz\"\n",
    "    R1_unpaired_trimmed += \".gz\"\n",
    "    R2_unpaired_trimmed += \".gz\"\n",
    "\n",
    "print(f\"Trimming {R1} and {R2}\")\n",
    "trim_adaptor = subprocess.run(\n",
    "    [\n",
    "        env_bin + \"trimmomatic\",\n",
    "        \"PE\",\n",
    "        \"-threads\",\n",
    "        str(num_cpus),\n",
    "        \"-phred33\",\n",
    "        R1,\n",
    "        R2,\n",
    "        R1_paired_trimmed,\n",
    "        R1_unpaired_trimmed,\n",
    "        R2_paired_trimmed,\n",
    "        R2_unpaired_trimmed,\n",
    "        f\"ILLUMINACLIP:{adaptor_seq_fa}:2:15:4:4:true\",\n",
    "        \"LEADING:20\",\n",
    "        \"TRAILING:20\",\n",
    "        \"SLIDINGWINDOW:4:15\",\n",
    "        \"MINLEN:25\",\n",
    "    ],\n",
    ")\n",
    "if trim_adaptor.returncode != 0:\n",
    "    print(trim_adaptor.stderr.decode())"
   ],
   "outputs": [
    {
     "output_type": "stream",
     "name": "stdout",
     "text": [
      "Trimming HL31_0404_S62_L004_R1_001.fastq.gz and HL31_0404_S62_L004_R2_001.fastq.gz\n"
     ]
    },
    {
     "output_type": "stream",
     "name": "stderr",
     "text": [
      "Picked up _JAVA_OPTIONS: -Xmx110G\n",
      "TrimmomaticPE: Started with arguments:\n",
      " -threads 30 -phred33 HL31_0404_S62_L004_R1_001.fastq.gz HL31_0404_S62_L004_R2_001.fastq.gz E14_Brg1FV_ATAC_0hr_Rep2_1.pair.fastq.gz E14_Brg1FV_ATAC_0hr_Rep2_1.unpair.fastq.gz E14_Brg1FV_ATAC_0hr_Rep2_2.pair.fastq.gz E14_Brg1FV_ATAC_0hr_Rep2_2.unpair.fastq.gz ILLUMINACLIP:/Extension_HDD2/Hanbin/ES_Cell/E14/ATAC/NexteraPE-PE.fa:2:15:4:4:true LEADING:20 TRAILING:20 SLIDINGWINDOW:4:15 MINLEN:25\n",
      "Using PrefixPair: 'AGATGTGTATAAGAGACAG' and 'AGATGTGTATAAGAGACAG'\n",
      "Using Long Clipping Sequence: 'GTCTCGTGGGCTCGGAGATGTGTATAAGAGACAG'\n",
      "Using Long Clipping Sequence: 'TCGTCGGCAGCGTCAGATGTGTATAAGAGACAG'\n",
      "Using Long Clipping Sequence: 'CTGTCTCTTATACACATCTCCGAGCCCACGAGAC'\n",
      "Using Long Clipping Sequence: 'CTGTCTCTTATACACATCTGACGCTGCCGACGA'\n",
      "ILLUMINACLIP: Using 1 prefix pairs, 4 forward/reverse sequences, 0 forward only sequences, 0 reverse only sequences\n",
      "Input Read Pairs: 35747914 Both Surviving: 34947569 (97.76%) Forward Only Surviving: 667786 (1.87%) Reverse Only Surviving: 92952 (0.26%) Dropped: 39607 (0.11%)\n",
      "TrimmomaticPE: Completed successfully\n"
     ]
    }
   ],
   "metadata": {}
  },
  {
   "cell_type": "markdown",
   "source": [
    "# Bowtie2 Mappping"
   ],
   "metadata": {}
  },
  {
   "cell_type": "code",
   "execution_count": 4,
   "source": [
    "sam_all_out = f\"{out_prefix}.sam\"\n",
    "mapping_stats = \"\"\n",
    "with open(sam_all_out, \"w\") as o:\n",
    "    bwt2_mapping = subprocess.Popen(\n",
    "        [\n",
    "            env_bin + \"bowtie2\",\n",
    "            \"--very-sensitive\",\n",
    "            \"-x\",\n",
    "            genome_index,\n",
    "            \"-p\",\n",
    "            str(num_cpus),\n",
    "            \"-I\",\n",
    "            \"10\",\n",
    "            \"-X\",\n",
    "            \"700\",\n",
    "            \"--dovetail\",\n",
    "            \"--phred33\",\n",
    "            \"-1\",\n",
    "            R1_paired_trimmed,\n",
    "            \"-2\",\n",
    "            R2_paired_trimmed,\n",
    "        ],\n",
    "        stderr=subprocess.PIPE,\n",
    "        stdout=o,\n",
    "    )\n",
    "\n",
    "    # capture mapping stats\n",
    "    for line in iter(bwt2_mapping.stderr.readline, b\"\"):\n",
    "        if line.startswith(b\"WARN\"):\n",
    "            continue\n",
    "        else:\n",
    "            mapping_stats += line.decode()\n",
    "\n",
    "    bwt2_mapping.wait()"
   ],
   "outputs": [],
   "metadata": {}
  },
  {
   "cell_type": "code",
   "execution_count": 5,
   "source": [
    "print(f\"Mapped {sam_all_out}\")\n",
    "print(mapping_stats)"
   ],
   "outputs": [
    {
     "output_type": "stream",
     "name": "stdout",
     "text": [
      "Mapped E14_Brg1FV_ATAC_0hr_Rep2.sam\n",
      "34947569 reads; of these:\n",
      "  34947569 (100.00%) were paired; of these:\n",
      "    986084 (2.82%) aligned concordantly 0 times\n",
      "    22746202 (65.09%) aligned concordantly exactly 1 time\n",
      "    11215283 (32.09%) aligned concordantly >1 times\n",
      "    ----\n",
      "    986084 pairs aligned concordantly 0 times; of these:\n",
      "      204472 (20.74%) aligned discordantly 1 time\n",
      "    ----\n",
      "    781612 pairs aligned 0 times concordantly or discordantly; of these:\n",
      "      1563224 mates make up the pairs; of these:\n",
      "        964131 (61.68%) aligned 0 times\n",
      "        324314 (20.75%) aligned exactly 1 time\n",
      "        274779 (17.58%) aligned >1 times\n",
      "98.62% overall alignment rate\n",
      "\n"
     ]
    }
   ],
   "metadata": {}
  },
  {
   "cell_type": "markdown",
   "source": [
    "# Fragment Size Distribution"
   ],
   "metadata": {
    "tags": []
   }
  },
  {
   "cell_type": "code",
   "execution_count": 6,
   "source": [
    "bam_all_out = f\"{out_prefix}.sorted.bam\"\n",
    "subprocess.run(\n",
    "    f\"{env_bin}samtools sort {sam_all_out} -O bam -o {bam_all_out} -@ {num_cpus}\",\n",
    "    shell=True,\n",
    ")\n",
    "subprocess.run(f\"{env_bin}samtools index {bam_all_out} -@ {num_cpus}\", shell=True)"
   ],
   "outputs": [
    {
     "output_type": "stream",
     "name": "stderr",
     "text": [
      "[bam_sort_core] merging from 0 files and 30 in-memory blocks...\n"
     ]
    },
    {
     "output_type": "execute_result",
     "data": {
      "text/plain": [
       "CompletedProcess(args='/home/coco/miniconda3/envs/cut_run/bin/samtools index E14_Brg1FV_ATAC_0hr_Rep2.sorted.bam -@ 30', returncode=0)"
      ]
     },
     "metadata": {},
     "execution_count": 6
    }
   ],
   "metadata": {}
  },
  {
   "cell_type": "code",
   "execution_count": 7,
   "source": [
    "!bamPEFragmentSize -hist fragmentSize.png -T \"Fragment size of PE ATAC data\" --maxFragmentLength 1000 -b $bam_all_out --samplesLabel $out_prefix"
   ],
   "outputs": [
    {
     "output_type": "stream",
     "name": "stdout",
     "text": [
      "\n",
      "\n",
      "Sample label: E14_Brg1FV_ATAC_0hr_Rep2\n",
      "Sample size: 34098\n",
      "\n",
      "Fragment lengths:\n",
      "Min.: 0.0\n",
      "1st Qu.: 78.0\n",
      "Mean: 191.4351868144759\n",
      "Median: 132.0\n",
      "3rd Qu.: 257.0\n",
      "Max.: 700.0\n",
      "Std: 151.8264211652476\n",
      "MAD: 68.0\n",
      "Len. 10%: 55.0\n",
      "Len. 20%: 70.0\n",
      "Len. 30%: 86.0\n",
      "Len. 40%: 107.0\n",
      "Len. 60%: 174.0\n",
      "Len. 70%: 225.0\n",
      "Len. 80%: 302.0\n",
      "Len. 90%: 430.0\n",
      "Len. 99%: 653.0\n",
      "\n",
      "\n",
      "Read lengths:\n",
      "Sample size: 34098\n",
      "\n",
      "Min.: 25.0\n",
      "1st Qu.: 75.0\n",
      "Mean: 87.30696815062467\n",
      "Median: 101.0\n",
      "3rd Qu.: 101.0\n",
      "Max.: 101.0\n",
      "Std: 20.185209045584696\n",
      "MAD: 0.0\n",
      "Len. 10%: 53.0\n",
      "Len. 20%: 67.0\n",
      "Len. 30%: 82.0\n",
      "Len. 40%: 100.0\n",
      "Len. 60%: 101.0\n",
      "Len. 70%: 101.0\n",
      "Len. 80%: 101.0\n",
      "Len. 90%: 101.0\n",
      "Len. 99%: 101.0\n",
      "\n"
     ]
    }
   ],
   "metadata": {}
  },
  {
   "cell_type": "markdown",
   "source": [
    "# Deeptools Create BigWig"
   ],
   "metadata": {
    "tags": []
   }
  },
  {
   "cell_type": "code",
   "execution_count": 8,
   "source": [
    "bw = f\"{out_prefix}.{low}_{high}.bigWig\"\n",
    "print(f\"Generating {bw}\")\n",
    "\n",
    "# make bigWig\n",
    "subprocess.run(\n",
    "    f\"bamCoverage -b {bam_all_out} -o {bw} -p {num_cpus} -bs 10 --normalizeUsing CPM  --minMappingQuality 30 --minFragmentLength {low} --maxFragmentLength {high}\",\n",
    "    shell=True,\n",
    ")\n",
    "\n",
    "# setup the link for bigWig\n",
    "import random\n",
    "\n",
    "\n",
    "def create_bw_track_controller(bw_path, webdir, host, track_name=None, color=None):\n",
    "    if track_name is None:\n",
    "        track_name = bw_path.split(\"/\")[-1]\n",
    "\n",
    "    if color is None:\n",
    "        color = f\"{random.randrange(0, 256)},{random.randrange(0, 256)},{random.randrange(0, 256)}\"\n",
    "\n",
    "    # host url for the webdir\n",
    "    subprocess.run([\"ln\", \"-s\", os.path.abspath(bw_path), os.path.abspath(webdir)])\n",
    "    track_ctl = (\n",
    "        \"track type=bigWig \"\n",
    "        + f\"name={track_name} \"\n",
    "        + f\"bigDataUrl={host}/{track_name} \"\n",
    "        + f\"color={color} \"\n",
    "        + 'visibility=full yLineOnOff=on autoScale=on yLineMark=\"0.0\" alwaysZero=on graphType=bar maxHeightPixels=128:75:11 windowingFunction=maximum smoothingWindow=off'\n",
    "    )\n",
    "\n",
    "    with open(f\"{bw_path}.track_control.txt\", \"w\") as o:\n",
    "        o.write(track_ctl)\n",
    "\n",
    "    bw = bw_path.split(\"/\")[-1]\n",
    "    with open(f\"{webdir}/{bw}.track_control.txt\", \"w\") as o:\n",
    "        o.write(\n",
    "            \"#\"\n",
    "            + \" \".join([\"ln\", \"-s\", os.path.abspath(bw_path), os.path.abspath(webdir)])\n",
    "            + \"\\n\"\n",
    "        )\n",
    "        o.write(track_ctl)\n",
    "\n",
    "\n",
    "create_bw_track_controller(bw, webdir, url)"
   ],
   "outputs": [
    {
     "output_type": "stream",
     "name": "stdout",
     "text": [
      "Generating E14_Brg1FV_ATAC_0hr_Rep2.0_200.bigWig\n",
      "Due to filtering, 40.771523126824064% of the aforementioned alignments will be used 28104221.46055771\n"
     ]
    },
    {
     "output_type": "stream",
     "name": "stderr",
     "text": [
      "normalization: CPM\n",
      "bamFilesList: ['E14_Brg1FV_ATAC_0hr_Rep2.sorted.bam']\n",
      "binLength: 10\n",
      "numberOfSamples: None\n",
      "blackListFileName: None\n",
      "skipZeroOverZero: False\n",
      "bed_and_bin: False\n",
      "genomeChunkSize: None\n",
      "defaultFragmentLength: read length\n",
      "numberOfProcessors: 30\n",
      "verbose: False\n",
      "region: None\n",
      "bedFile: None\n",
      "minMappingQuality: 30\n",
      "ignoreDuplicates: False\n",
      "chrsToSkip: []\n",
      "stepSize: 10\n",
      "center_read: False\n",
      "samFlag_include: None\n",
      "samFlag_exclude: None\n",
      "minFragmentLength: 0\n",
      "maxFragmentLength: 200\n",
      "zerosToNans: False\n",
      "smoothLength: None\n",
      "save_data: False\n",
      "out_file_for_raw_data: None\n",
      "maxPairedFragmentLength: 200\n"
     ]
    }
   ],
   "metadata": {}
  },
  {
   "cell_type": "markdown",
   "source": [
    "# Keep Fragment by Size and Filter MAPQ"
   ],
   "metadata": {
    "tags": []
   }
  },
  {
   "cell_type": "code",
   "execution_count": 9,
   "source": [
    "filtered_frag_bed = f\"{out_prefix}.mapq30_{low}_{high}_fragment.bed\"\n",
    "sort_by_name = subprocess.Popen(\n",
    "    f\"{env_bin}samtools sort {sam_all_out} -O bam -@ {num_cpus} -n\",\n",
    "    shell=True,\n",
    "    stdout=subprocess.PIPE,\n",
    ")\n",
    "\n",
    "bedtools_to_bedpe = subprocess.Popen(\n",
    "    f\"bedtools bamtobed -bedpe -i stdin\",\n",
    "    shell=True,\n",
    "    stdin=sort_by_name.stdout,\n",
    "    stdout=subprocess.PIPE,\n",
    ")\n",
    "\n",
    "with open(filtered_frag_bed, \"w\") as w:\n",
    "    subprocess.run(\n",
    "        'awk \\'($1 == $4) && ($8 >= 30) && ($6 - $2 >=0) && ($6 - $2 <= 200) {print $1\"\\\\t\"$2\"\\\\t\"$6}\\'',\n",
    "        shell=True,\n",
    "        stdin=bedtools_to_bedpe.stdout,\n",
    "        stdout=w,\n",
    "    )"
   ],
   "outputs": [
    {
     "output_type": "stream",
     "name": "stderr",
     "text": [
      "[bam_sort_core] merging from 0 files and 30 in-memory blocks...\n"
     ]
    }
   ],
   "metadata": {}
  },
  {
   "cell_type": "code",
   "execution_count": 10,
   "source": [
    "subprocess.run([\"wc\", \"-l\", filtered_frag_bed])"
   ],
   "outputs": [
    {
     "output_type": "stream",
     "name": "stdout",
     "text": [
      "16109757 E14_Brg1FV_ATAC_0hr_Rep2.mapq30_0_200_fragment.bed\n"
     ]
    },
    {
     "output_type": "execute_result",
     "data": {
      "text/plain": [
       "CompletedProcess(args=['wc', '-l', 'E14_Brg1FV_ATAC_0hr_Rep2.mapq30_0_200_fragment.bed'], returncode=0)"
      ]
     },
     "metadata": {},
     "execution_count": 10
    }
   ],
   "metadata": {}
  },
  {
   "cell_type": "markdown",
   "source": [
    "# MACS2 Call Peaks"
   ],
   "metadata": {
    "tags": []
   }
  },
  {
   "cell_type": "code",
   "execution_count": 11,
   "source": [
    "macs2_out_prefix = f\"{out_prefix}.mapq30_{low}_{high}.macs2\"\n",
    "\n",
    "with open(f\"{macs2_out_prefix}.log\", \"w\") as log:\n",
    "    macs2_cmd = [\n",
    "        f\"{env_bin}macs2\",\n",
    "        \"callpeak\",\n",
    "        \"-t\",\n",
    "        filtered_frag_bed,\n",
    "        \"-g\",\n",
    "        macs2_genome,\n",
    "        \"-f\",\n",
    "        \"BEDPE\",\n",
    "        \"-n\",\n",
    "        macs2_out_prefix,\n",
    "        \"-q\",\n",
    "        str(0.01),\n",
    "        \"-B\",\n",
    "        \"--SPMR\",\n",
    "        \"--keep-dup\",\n",
    "        \"auto\",\n",
    "    ]\n",
    "\n",
    "    macs2_callpeaks = subprocess.Popen(\n",
    "        macs2_cmd,\n",
    "        stderr=log,\n",
    "    )\n",
    "    macs2_callpeaks.wait()\n",
    "\n",
    "# peak number\n",
    "subprocess.run([\"wc\", \"-l\", f\"{macs2_out_prefix}_peaks.narrowPeak\"])"
   ],
   "outputs": [
    {
     "output_type": "stream",
     "name": "stdout",
     "text": [
      "40514 E14_Brg1FV_ATAC_0hr_Rep2.mapq30_0_200.macs2_peaks.narrowPeak\n"
     ]
    },
    {
     "output_type": "execute_result",
     "data": {
      "text/plain": [
       "CompletedProcess(args=['wc', '-l', 'E14_Brg1FV_ATAC_0hr_Rep2.mapq30_0_200.macs2_peaks.narrowPeak'], returncode=0)"
      ]
     },
     "metadata": {},
     "execution_count": 11
    }
   ],
   "metadata": {}
  },
  {
   "cell_type": "code",
   "execution_count": null,
   "source": [],
   "outputs": [],
   "metadata": {}
  }
 ],
 "metadata": {
  "interpreter": {
   "hash": "3626d23fe839ffd6285eff9c2853dcb632ccc840095ca4023c798b801b1c8681"
  },
  "kernelspec": {
   "name": "python3",
   "display_name": "Python 3.8.10 64-bit ('cut_run': conda)"
  },
  "language_info": {
   "codemirror_mode": {
    "name": "ipython",
    "version": 3
   },
   "file_extension": ".py",
   "mimetype": "text/x-python",
   "name": "python",
   "nbconvert_exporter": "python",
   "pygments_lexer": "ipython3",
   "version": "3.8.10"
  }
 },
 "nbformat": 4,
 "nbformat_minor": 4
}