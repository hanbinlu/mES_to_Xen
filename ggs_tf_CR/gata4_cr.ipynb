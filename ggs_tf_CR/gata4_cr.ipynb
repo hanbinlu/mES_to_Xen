{
 "cells": [
  {
   "cell_type": "code",
   "execution_count": 1,
   "metadata": {},
   "outputs": [],
   "source": [
    "%load_ext lab_black\n",
    "import subprocess, os"
   ]
  },
  {
   "cell_type": "code",
   "execution_count": 2,
   "metadata": {},
   "outputs": [],
   "source": [
    "# MODIFY THIS CELL\n",
    "# sample name: give more detailed, cell type, experiment, targets etc...\n",
    "out_prefix = \"/Extension_HDD1/Xen_PP/data/cXen_Gata4_CR_rep1/cXen_Gata4_CR_rep1\"\n",
    "env_bin = \"/home/coco/miniconda3/envs/cut_run/bin/\""
   ]
  },
  {
   "cell_type": "markdown",
   "metadata": {},
   "source": [
    "# Trim Adaptor PE Mode"
   ]
  },
  {
   "cell_type": "code",
   "execution_count": 3,
   "metadata": {},
   "outputs": [],
   "source": [
    "# MODIFY THIS CELL\n",
    "R1 = \"/Extension_HDD1/Xen_PP/data/cXen_Gata4_CR_rep1/nR155-L3-G5-P155-CTGAAGCT-ACGTCCTG-READ1-Sequences.txt.gz\"\n",
    "R2 = \"/Extension_HDD1/Xen_PP/data/cXen_Gata4_CR_rep1/nR155-L3-G5-P155-CTGAAGCT-ACGTCCTG-READ2-Sequences.txt.gz\"\n",
    "num_cpus = 30\n",
    "adaptor_seq_fa = \"/Extension_HDD1/Xen_PP/TruSeqAdapters.fa\""
   ]
  },
  {
   "cell_type": "code",
   "execution_count": 4,
   "metadata": {},
   "outputs": [],
   "source": [
    "R1_paired_trimmed = f\"{out_prefix}_1.pair.fastq\"\n",
    "R2_paired_trimmed = f\"{out_prefix}_2.pair.fastq\"\n",
    "R1_unpaired_trimmed = f\"{out_prefix}_1.unpair.fastq\"\n",
    "R2_unpaired_trimmed = f\"{out_prefix}_2.unpair.fastq\"\n",
    "\n",
    "if R1.endswith(\"gz\"):\n",
    "    R1_paired_trimmed += \".gz\"\n",
    "    R2_paired_trimmed += \".gz\"\n",
    "    R1_unpaired_trimmed += \".gz\"\n",
    "    R2_unpaired_trimmed += \".gz\""
   ]
  },
  {
   "cell_type": "code",
   "execution_count": 5,
   "metadata": {},
   "outputs": [],
   "source": [
    "trim_adaptor = subprocess.run(\n",
    "    [\n",
    "        env_bin + \"trimmomatic\",\n",
    "        \"PE\",\n",
    "        \"-threads\",\n",
    "        str(num_cpus),\n",
    "        \"-phred33\",\n",
    "        R1,\n",
    "        R2,\n",
    "        R1_paired_trimmed,\n",
    "        R1_unpaired_trimmed,\n",
    "        R2_paired_trimmed,\n",
    "        R2_unpaired_trimmed,\n",
    "        f\"ILLUMINACLIP:{adaptor_seq_fa}:2:15:4:4:true\",\n",
    "        \"LEADING:20\",\n",
    "        \"TRAILING:20\",\n",
    "        \"SLIDINGWINDOW:4:15\",\n",
    "        \"MINLEN:25\",\n",
    "    ],\n",
    "    capture_output=True,\n",
    ")\n",
    "if trim_adaptor.returncode != 0:\n",
    "    print(trim_adaptor.stderr.decode())"
   ]
  },
  {
   "cell_type": "markdown",
   "metadata": {},
   "source": [
    "# Bowtie2 Mappping"
   ]
  },
  {
   "cell_type": "code",
   "execution_count": 6,
   "metadata": {},
   "outputs": [],
   "source": [
    "# MODIFY THIS CELL\n",
    "genome_index = \"/home/software/bowtie2-2.2.9/genome/mm10/mm10\"\n",
    "sam_all_out = f\"{out_prefix}.sam\""
   ]
  },
  {
   "cell_type": "code",
   "execution_count": 7,
   "metadata": {},
   "outputs": [
    {
     "name": "stdout",
     "output_type": "stream",
     "text": [
      "20186279 reads; of these:\n",
      "  20186279 (100.00%) were paired; of these:\n",
      "    504343 (2.50%) aligned concordantly 0 times\n",
      "    11653788 (57.73%) aligned concordantly exactly 1 time\n",
      "    8028148 (39.77%) aligned concordantly >1 times\n",
      "    ----\n",
      "    504343 pairs aligned concordantly 0 times; of these:\n",
      "      14903 (2.95%) aligned discordantly 1 time\n",
      "    ----\n",
      "    489440 pairs aligned 0 times concordantly or discordantly; of these:\n",
      "      978880 mates make up the pairs; of these:\n",
      "        891582 (91.08%) aligned 0 times\n",
      "        53307 (5.45%) aligned exactly 1 time\n",
      "        33991 (3.47%) aligned >1 times\n",
      "97.79% overall alignment rate\n",
      "\n"
     ]
    }
   ],
   "source": [
    "mapping_stats = \"\"\n",
    "with open(sam_all_out, \"w\") as o:\n",
    "    bwt2_mapping = subprocess.Popen(\n",
    "        [\n",
    "            env_bin + \"bowtie2\",\n",
    "            \"-x\",\n",
    "            genome_index,\n",
    "            \"-p\",\n",
    "            str(num_cpus),\n",
    "            \"-I\",\n",
    "            \"10\",\n",
    "            \"-X\",\n",
    "            \"700\",\n",
    "            \"--dovetail\",\n",
    "            \"--phred33\",\n",
    "            \"-1\",\n",
    "            R1_paired_trimmed,\n",
    "            \"-2\",\n",
    "            R2_paired_trimmed,\n",
    "        ],\n",
    "        stderr=subprocess.PIPE,\n",
    "        stdout=o,\n",
    "    )\n",
    "\n",
    "    # capture mapping stats\n",
    "    for line in iter(bwt2_mapping.stderr.readline, b\"\"):\n",
    "        if line.startswith(b\"WARN\"):\n",
    "            continue\n",
    "        else:\n",
    "            mapping_stats += line.decode()\n",
    "\n",
    "    bwt2_mapping.wait()\n",
    "\n",
    "print(mapping_stats)"
   ]
  },
  {
   "cell_type": "markdown",
   "metadata": {},
   "source": [
    "# Keep Fragment by Size "
   ]
  },
  {
   "cell_type": "code",
   "execution_count": 8,
   "metadata": {},
   "outputs": [],
   "source": [
    "# MODIFY THIS CELL\n",
    "low, high = 0, 120\n",
    "filter_sorted_bam = f\"{out_prefix}.{low}_{high}.sorted.bam\""
   ]
  },
  {
   "cell_type": "code",
   "execution_count": 9,
   "metadata": {},
   "outputs": [
    {
     "data": {
      "text/plain": [
       "0"
      ]
     },
     "execution_count": 9,
     "metadata": {},
     "output_type": "execute_result"
    }
   ],
   "source": [
    "# get mapped frags within the size range\n",
    "filter_by_size = subprocess.Popen(\n",
    "    f\"awk '(substr($0,1,1)==\\\"@\\\") || ($9>={low} && $9<={high}) || ($9<=-{low} && $9>=-{high})' {sam_all_out}\",\n",
    "    shell=True,\n",
    "    stdout=subprocess.PIPE,\n",
    ")\n",
    "# sort by query name and convert to bam\n",
    "sort_bam = subprocess.Popen(\n",
    "    [\n",
    "        \"samtools\",\n",
    "        \"sort\",\n",
    "        \"-n\",\n",
    "        \"-O\",\n",
    "        \"bam\",\n",
    "        \"-o\",\n",
    "        filter_sorted_bam,\n",
    "        \"-@\",\n",
    "        str(num_cpus),\n",
    "        \"-\",  # pipe from filter output stream\n",
    "    ],\n",
    "    stderr=subprocess.DEVNULL,\n",
    "    stdin=filter_by_size.stdout,\n",
    ")\n",
    "sort_bam.wait()"
   ]
  },
  {
   "cell_type": "markdown",
   "metadata": {},
   "source": [
    "# MACS2 Call Peaks"
   ]
  },
  {
   "cell_type": "code",
   "execution_count": 10,
   "metadata": {},
   "outputs": [],
   "source": [
    "# MODIFY THIS CELL\n",
    "keep_dup = 3\n",
    "macs2_genome = \"mm\"\n",
    "macs2_out_prefix = f\"{out_prefix}_{low}_{high}.macs2\""
   ]
  },
  {
   "cell_type": "code",
   "execution_count": 14,
   "metadata": {},
   "outputs": [
    {
     "name": "stdout",
     "output_type": "stream",
     "text": [
      "59506 /Extension_HDD1/Xen_PP/data/cXen_Gata4_CR_rep1/cXen_Gata4_CR_rep1_0_120.macs2_callpeak_peaks.narrowPeak\n"
     ]
    },
    {
     "data": {
      "text/plain": [
       "CompletedProcess(args=['wc', '-l', '/Extension_HDD1/Xen_PP/data/cXen_Gata4_CR_rep1/cXen_Gata4_CR_rep1_0_120.macs2_callpeak_peaks.narrowPeak'], returncode=0)"
      ]
     },
     "execution_count": 14,
     "metadata": {},
     "output_type": "execute_result"
    }
   ],
   "source": [
    "with open(f\"{macs2_out_prefix}.log\", \"w\") as log:\n",
    "    macs2_callpeaks = subprocess.Popen(\n",
    "        [\n",
    "            f\"{env_bin}macs2\",\n",
    "            \"callpeak\",\n",
    "            \"-t\",\n",
    "            filter_sorted_bam,\n",
    "            \"-g\",\n",
    "            macs2_genome,\n",
    "            \"-f\",\n",
    "            \"BAMPE\",\n",
    "            \"-n\",\n",
    "            macs2_out_prefix,\n",
    "            \"-q\",\n",
    "            str(0.01),\n",
    "            \"-B\",\n",
    "            \"--SPMR\",\n",
    "            \"--keep-dup\",\n",
    "            str(keep_dup),\n",
    "        ],\n",
    "        stderr=log,\n",
    "    )\n",
    "    macs2_callpeaks.wait()\n",
    "\n",
    "# peak number\n",
    "subprocess.run([\"wc\", \"-l\", f\"{macs2_out_prefix}_peaks.narrowPeak\"])"
   ]
  },
  {
   "cell_type": "markdown",
   "metadata": {},
   "source": [
    "# Make Bigwig Using Homer"
   ]
  },
  {
   "cell_type": "code",
   "execution_count": 20,
   "metadata": {},
   "outputs": [],
   "source": [
    "# MODIFY THIS CELL\n",
    "tagdir = f\"{out_prefix}_{low}_{high}.tagdir\"\n",
    "bigwig_genome = \"mm10\"\n",
    "url = \"http://unzip.4d-genome.com:8080/paula\"\n",
    "webdir = \"/usr/local/apache2/htdocs/paula/\""
   ]
  },
  {
   "cell_type": "code",
   "execution_count": 16,
   "metadata": {},
   "outputs": [
    {
     "name": "stderr",
     "output_type": "stream",
     "text": [
      "\tWill parse file: /Extension_HDD1/Xen_PP/data/cXen_Gata4_CR_rep1/cXen_Gata4_CR_rep1.0_120.sorted.bam\n",
      "\n",
      "\tCreating directory: /Extension_HDD1/Xen_PP/data/cXen_Gata4_CR_rep1/cXen_Gata4_CR_rep1_0_120.tagdir and removing existing *.tags.tsv\n",
      "\n",
      "\tTreating /Extension_HDD1/Xen_PP/data/cXen_Gata4_CR_rep1/cXen_Gata4_CR_rep1.0_120.sorted.bam as a bam file\n",
      "\tReading alignment file /Extension_HDD1/Xen_PP/data/cXen_Gata4_CR_rep1/cXen_Gata4_CR_rep1.0_120.sorted.bam\n",
      "\n",
      "\tOptimizing tag files...\n",
      "\tEstimated genome size = 2725486875\n",
      "\tEstimated average read density = 0.004589 per bp\n",
      "\tTotal Tags = 12505935.5\n",
      "\tTotal Positions = 10831164\n",
      "\tAverage tag length = 63.5\n",
      "\tMedian tags per position = 0 (ideal: 1)\n",
      "\tAverage tags per position = 0.723\n",
      "\tRestricting tags per bp...\n",
      "\tFragment Length Estimate: 300\n",
      "\tPeak Width Estimate: 0\n",
      "\t\t!!! No reliable estimate for peak size\n",
      "\t\tSetting Peak width estimate to be equal to fragment length estimate\n",
      "\tAutocorrelation quality control metrics:\n",
      "\t\tSame strand fold enrichment: 4.5\n",
      "\t\tDiff strand fold enrichment: 4.7\n",
      "\t\tSame / Diff fold enrichment: 1.0\n",
      "\n",
      "\t\tGuessing sample is ChIP-Seq or unstranded RNA-Seq - autocorrelation looks good.\n",
      "\n"
     ]
    },
    {
     "data": {
      "text/plain": [
       "CompletedProcess(args='makeTagDirectory /Extension_HDD1/Xen_PP/data/cXen_Gata4_CR_rep1/cXen_Gata4_CR_rep1_0_120.tagdir /Extension_HDD1/Xen_PP/data/cXen_Gata4_CR_rep1/cXen_Gata4_CR_rep1.0_120.sorted.bam -tbp 3', returncode=0)"
      ]
     },
     "execution_count": 16,
     "metadata": {},
     "output_type": "execute_result"
    }
   ],
   "source": [
    "subprocess.run(\n",
    "    f\"makeTagDirectory {tagdir} {filter_sorted_bam} -tbp {keep_dup}\", shell=True\n",
    ")"
   ]
  },
  {
   "cell_type": "code",
   "execution_count": 19,
   "metadata": {},
   "outputs": [
    {
     "data": {
      "text/plain": [
       "CompletedProcess(args='makeBigWig.pl /Extension_HDD1/Xen_PP/data/cXen_Gata4_CR_rep1/cXen_Gata4_CR_rep1_0_120.tagdir mm10 -url NA -webdir NA -update', returncode=0)"
      ]
     },
     "execution_count": 19,
     "metadata": {},
     "output_type": "execute_result"
    }
   ],
   "source": [
    "subprocess.run(\n",
    "    f\"makeBigWig.pl {tagdir} {bigwig_genome} -url NA -webdir NA -update\",\n",
    "    shell=True,\n",
    "    stderr=subprocess.DEVNULL,\n",
    ")"
   ]
  },
  {
   "cell_type": "code",
   "execution_count": 24,
   "metadata": {},
   "outputs": [],
   "source": [
    "# setup the link for bigwig\n",
    "import random\n",
    "\n",
    "\n",
    "def create_bw_track_controller(bw_path, webdir, host, track_name=None, color=None):\n",
    "    if track_name is None:\n",
    "        track_name = bw_path.split(\"/\")[-1]\n",
    "\n",
    "    if color is None:\n",
    "        color = f\"{random.randrange(0, 256)},{random.randrange(0, 256)},{random.randrange(0, 256)}\"\n",
    "\n",
    "    # host url for the webdir\n",
    "    subprocess.run([\"ln\", \"-s\", os.path.abspath(bw_path), os.path.abspath(webdir)])\n",
    "    track_ctl = (\n",
    "        \"track type=bigWig \"\n",
    "        + f\"name={track_name} \"\n",
    "        + f\"bigDataUrl={host}/{track_name} \"\n",
    "        + f\"color={color} \"\n",
    "        + 'visibility=full yLineOnOff=on autoScale=on yLineMark=\"0.0\" alwaysZero=on graphType=bar maxHeightPixels=128:75:11 windowingFunction=maximum smoothingWindow=off'\n",
    "    )\n",
    "\n",
    "    with open(f\"{bw_path}.track_control.txt\", \"w\") as o:\n",
    "        o.write(track_ctl)\n",
    "\n",
    "    bw = bw_path.split(\"/\")[-1]\n",
    "    with open(f\"{webdir}/{bw}.track_control.txt\", \"w\") as o:\n",
    "        o.write(\n",
    "            \"#\"\n",
    "            + \" \".join([\"ln\", \"-s\", os.path.abspath(bw_path), os.path.abspath(webdir)])\n",
    "            + \"\\n\"\n",
    "        )\n",
    "        o.write(track_ctl)\n",
    "\n",
    "\n",
    "prefix = tagdir.split(\"/\")[-1]\n",
    "create_bw_track_controller(f\"{tagdir}/{prefix}.ucsc.bigWig\", webdir, url)"
   ]
  },
  {
   "cell_type": "code",
   "execution_count": 9,
   "metadata": {},
   "outputs": [],
   "source": [
    "# (Optional) Remove Duplications\n",
    "# final_bam = f\"{out_prefix}.{low}_{high}.sorted.rmdup.bam\"\n",
    "# \n",
    "# subprocess.run(\n",
    "# \t[\n",
    "# \t\t\"picard\",\n",
    "# \t\t\"MarkDuplicates\",\n",
    "# \t\t\"--INPUT\",\n",
    "# \t\tfilter_sorted_bam,\n",
    "# \t\t\"--OUTPUT\",\n",
    "#   \t\tfinal_bam,\n",
    "# \t\t\"--M\",\n",
    "# \t\tf\"{final_bam}.picard_rmdup.metrics\",\n",
    "# \t\t\"--ASSUME_SORT_ORDER\",\n",
    "# \t\t\"queryname\"\n",
    "# \t]\n",
    "# \tstderr = subprocess.DEVNULL\n",
    "# )"
   ]
  }
 ],
 "metadata": {
  "interpreter": {
   "hash": "3626d23fe839ffd6285eff9c2853dcb632ccc840095ca4023c798b801b1c8681"
  },
  "kernelspec": {
   "display_name": "cr",
   "language": "python",
   "name": "cut_run"
  },
  "language_info": {
   "codemirror_mode": {
    "name": "ipython",
    "version": 3
   },
   "file_extension": ".py",
   "mimetype": "text/x-python",
   "name": "python",
   "nbconvert_exporter": "python",
   "pygments_lexer": "ipython3",
   "version": "3.8.10"
  }
 },
 "nbformat": 4,
 "nbformat_minor": 4
}
