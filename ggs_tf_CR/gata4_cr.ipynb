{
 "cells": [
  {
   "cell_type": "code",
   "execution_count": null,
   "source": [
    "trimmomatic PE -threads 30 -phred33 SRR15295331_1.fastq SRR15295331_2.fastq 48hP_H3K27me3_1.paired.fastq 48hP_H3K27me3_1.unpaired.fastq 48hP_H3K27me3_2.paired.fastq 48hP_H3K27me3_2.unpaired.fastq  ILLUMINACLIP:/Extension_HDD1/mouse_embryo_sc_rna_seq/mESC_PrE/cutandrun_test/hts.igb.uci.edu/paulap21071953/cutruntools/adapters/TruSeqAdapters.fa:2:15:4:4:true LEADING:20 TRAILING:20 SLIDINGWINDOW:4:15 MINLEN:25\n"
   ],
   "outputs": [],
   "metadata": {}
  },
  {
   "cell_type": "code",
   "execution_count": null,
   "source": [
    "bowtie2 -x /home/software/bowtie2-2.2.9/genome/mm10/mm10  -p 30 -I 10 -X 700 --dovetail --phred33 -1 48hP_H3K27me3_1.paired.fastq -2 48hP_H3K27me3_2.paired.fastq -S 48hP_H3K27me3.sam"
   ],
   "outputs": [],
   "metadata": {}
  },
  {
   "cell_type": "code",
   "execution_count": null,
   "source": [
    "samtools view -S -b 48hP_H3K27me3.sam -@ 30 > 48hP_H3K27me3.bam\n",
    "\n",
    "samtools sort 48h_Gata6.bam -o 48h_Gata6_sorted.bam -@ 30\n",
    "\n",
    "samtools index 48h_Gata6_sorted.bam -@ 30\n",
    "samtools view -h 24h_Gata4_sorted_1.bam | awk 'substr($0,1,1)==\"@\" || ($9>=0 &&\n",
    " $9<=120) || ($9<=0 && $9>=-120)’ | samtools view -b > 24h_Gata6_1–0-120.bam\n"
   ],
   "outputs": [],
   "metadata": {}
  },
  {
   "cell_type": "code",
   "execution_count": null,
   "source": [
    "picard MarkDuplicates \\\n",
    "INPUT= Sox17-0-120_sorted.bam OUTPUT=dup.Sox17-0-120_sorted.bam \\\n",
    "METRICS_FILE=metrics.Sox17-0-120.txt\n",
    "\n",
    "samtools index dup.marked_Gata4-0-120_sorted.bam -@ 30"
   ],
   "outputs": [],
   "metadata": {}
  },
  {
   "cell_type": "code",
   "execution_count": null,
   "source": [
    "macs2 callpeak -t dedup.marked_24h_Gata4_1-0-120_sorted.bam -g hs -f BAMPE -n 24h_Gata4_1-0-120 --outdir 24h_Gata4_1-0-120_Macs2/ -q 0.01 -B --SPMR --keep-dup 3 2> macs2.24h_Gata4_1-0-120.log.txt\n"
   ],
   "outputs": [],
   "metadata": {}
  }
 ],
 "metadata": {
  "orig_nbformat": 4,
  "language_info": {
   "name": "python"
  }
 },
 "nbformat": 4,
 "nbformat_minor": 2
}