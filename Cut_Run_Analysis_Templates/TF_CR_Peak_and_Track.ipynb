{
 "cells": [
  {
   "cell_type": "code",
   "execution_count": 1,
   "metadata": {},
   "outputs": [],
   "source": [
    "%load_ext lab_black\n",
    "import subprocess, os"
   ]
  },
  {
   "cell_type": "markdown",
   "metadata": {
    "tags": []
   },
   "source": [
    "# Input and Parameters\n",
    "\n",
    "Tips for call histone: change fragment size and set `broad=True` "
   ]
  },
  {
   "cell_type": "code",
   "execution_count": 2,
   "metadata": {},
   "outputs": [],
   "source": [
    "# MODIFY THIS CELL\n",
    "\n",
    "# system control\n",
    "env_bin = \"/home/coco/miniconda3/envs/cut_run/bin/\"\n",
    "num_cpus = 30\n",
    "\n",
    "# sample name: give more detailed, cell type, experiment, targets etc...\n",
    "out_prefix = \"/Extension_HDD1/Xen_PP/data/cXen_Sox17_CR_rep1/cXen_Sox17_CR_rep1\"\n",
    "\n",
    "# FASTQ input paths\n",
    "R1 = \"/Extension_HDD1/Xen_PP/data/cXen_Sox17_CR_rep1/nR161-L3-G7-P053-GAATTCGT-GCCTCTAT-READ1-Sequences.txt.gz\"\n",
    "R2 = \"/Extension_HDD1/Xen_PP/data/cXen_Sox17_CR_rep1/nR161-L3-G7-P053-GAATTCGT-GCCTCTAT-READ2-Sequences.txt.gz\"\n",
    "\n",
    "# adaptor sequence for Trimmomatic\n",
    "adaptor_seq_fa = \"/Extension_HDD1/Xen_PP/TruSeqAdapters.fa\"\n",
    "\n",
    "# bowtie2 mapping setup\n",
    "genome_index = \"/home/software/bowtie2-2.2.9/genome/mm10/mm10\"\n",
    "\n",
    "# fragment size\n",
    "low, high = 0, 120\n",
    "\n",
    "# server for bigwig\n",
    "url = \"http://unzip.4d-genome.com:8080/paula/Test_Clean_Regularly/\"\n",
    "webdir = \"/usr/local/apache2/htdocs/paula/Test_Clean_Regularly/\"\n",
    "\n",
    "# MACS2 call peak parameters\n",
    "keep_dup = 3\n",
    "macs2_genome = \"mm\"\n",
    "broad = False"
   ]
  },
  {
   "cell_type": "markdown",
   "metadata": {},
   "source": [
    "# Trim Adaptor PE Mode"
   ]
  },
  {
   "cell_type": "code",
   "execution_count": 4,
   "metadata": {},
   "outputs": [
    {
     "name": "stdout",
     "output_type": "stream",
     "text": [
      "Trimming /Extension_HDD1/Xen_PP/data/cXen_Sox17_CR_rep1/nR161-L3-G7-P053-GAATTCGT-GCCTCTAT-READ1-Sequences.txt.gz and /Extension_HDD1/Xen_PP/data/cXen_Sox17_CR_rep1/nR161-L3-G7-P053-GAATTCGT-GCCTCTAT-READ2-Sequences.txt.gz\n"
     ]
    }
   ],
   "source": [
    "R1_paired_trimmed = f\"{out_prefix}_1.pair.fastq\"\n",
    "R2_paired_trimmed = f\"{out_prefix}_2.pair.fastq\"\n",
    "R1_unpaired_trimmed = f\"{out_prefix}_1.unpair.fastq\"\n",
    "R2_unpaired_trimmed = f\"{out_prefix}_2.unpair.fastq\"\n",
    "\n",
    "if R1.endswith(\"gz\"):\n",
    "    R1_paired_trimmed += \".gz\"\n",
    "    R2_paired_trimmed += \".gz\"\n",
    "    R1_unpaired_trimmed += \".gz\"\n",
    "    R2_unpaired_trimmed += \".gz\"\n",
    "\n",
    "print(f\"Trimming {R1} and {R2}\")\n",
    "trim_adaptor = subprocess.run(\n",
    "    [\n",
    "        env_bin + \"trimmomatic\",\n",
    "        \"PE\",\n",
    "        \"-threads\",\n",
    "        str(num_cpus),\n",
    "        \"-phred33\",\n",
    "        R1,\n",
    "        R2,\n",
    "        R1_paired_trimmed,\n",
    "        R1_unpaired_trimmed,\n",
    "        R2_paired_trimmed,\n",
    "        R2_unpaired_trimmed,\n",
    "        f\"ILLUMINACLIP:{adaptor_seq_fa}:2:15:4:4:true\",\n",
    "        \"LEADING:20\",\n",
    "        \"TRAILING:20\",\n",
    "        \"SLIDINGWINDOW:4:15\",\n",
    "        \"MINLEN:25\",\n",
    "    ],\n",
    "    capture_output=True,\n",
    ")\n",
    "if trim_adaptor.returncode != 0:\n",
    "    print(trim_adaptor.stderr.decode())"
   ]
  },
  {
   "cell_type": "markdown",
   "metadata": {},
   "source": [
    "# Bowtie2 Mappping"
   ]
  },
  {
   "cell_type": "code",
   "execution_count": 5,
   "metadata": {},
   "outputs": [],
   "source": [
    "sam_all_out = f\"{out_prefix}.sam\"\n",
    "mapping_stats = \"\"\n",
    "with open(sam_all_out, \"w\") as o:\n",
    "    bwt2_mapping = subprocess.Popen(\n",
    "        [\n",
    "            env_bin + \"bowtie2\",\n",
    "            \"-x\",\n",
    "            genome_index,\n",
    "            \"-p\",\n",
    "            str(num_cpus),\n",
    "            \"-I\",\n",
    "            \"10\",\n",
    "            \"-X\",\n",
    "            \"700\",\n",
    "            \"--dovetail\",\n",
    "            \"--phred33\",\n",
    "            \"-1\",\n",
    "            R1_paired_trimmed,\n",
    "            \"-2\",\n",
    "            R2_paired_trimmed,\n",
    "        ],\n",
    "        stderr=subprocess.PIPE,\n",
    "        stdout=o,\n",
    "    )\n",
    "\n",
    "    # capture mapping stats\n",
    "    for line in iter(bwt2_mapping.stderr.readline, b\"\"):\n",
    "        if line.startswith(b\"WARN\"):\n",
    "            continue\n",
    "        else:\n",
    "            mapping_stats += line.decode()\n",
    "\n",
    "    bwt2_mapping.wait()"
   ]
  },
  {
   "cell_type": "code",
   "execution_count": 6,
   "metadata": {},
   "outputs": [
    {
     "name": "stdout",
     "output_type": "stream",
     "text": [
      "Mapped /Extension_HDD1/Xen_PP/data/cXen_Sox17_CR_rep1/cXen_Sox17_CR_rep1.sam\n",
      "19476563 reads; of these:\n",
      "  19476563 (100.00%) were paired; of these:\n",
      "    936325 (4.81%) aligned concordantly 0 times\n",
      "    10911764 (56.03%) aligned concordantly exactly 1 time\n",
      "    7628474 (39.17%) aligned concordantly >1 times\n",
      "    ----\n",
      "    936325 pairs aligned concordantly 0 times; of these:\n",
      "      55442 (5.92%) aligned discordantly 1 time\n",
      "    ----\n",
      "    880883 pairs aligned 0 times concordantly or discordantly; of these:\n",
      "      1761766 mates make up the pairs; of these:\n",
      "        1548432 (87.89%) aligned 0 times\n",
      "        123410 (7.00%) aligned exactly 1 time\n",
      "        89924 (5.10%) aligned >1 times\n",
      "96.02% overall alignment rate\n",
      "\n"
     ]
    }
   ],
   "source": [
    "print(f\"Mapped {sam_all_out}\")\n",
    "print(mapping_stats)"
   ]
  },
  {
   "cell_type": "markdown",
   "metadata": {
    "tags": []
   },
   "source": [
    "# Keep Fragment by Size "
   ]
  },
  {
   "cell_type": "code",
   "execution_count": 7,
   "metadata": {},
   "outputs": [
    {
     "name": "stdout",
     "output_type": "stream",
     "text": [
      "Making /Extension_HDD1/Xen_PP/data/cXen_Sox17_CR_rep1/cXen_Sox17_CR_rep1.0_120.sorted.bam\n"
     ]
    },
    {
     "name": "stderr",
     "output_type": "stream",
     "text": [
      "[bam_sort_core] merging from 0 files and 30 in-memory blocks...\n"
     ]
    },
    {
     "data": {
      "text/plain": [
       "0"
      ]
     },
     "execution_count": 7,
     "metadata": {},
     "output_type": "execute_result"
    }
   ],
   "source": [
    "filter_sorted_bam = f\"{out_prefix}.{low}_{high}.sorted.bam\"\n",
    "# get mapped frags within the size range\n",
    "print(f\"Making {filter_sorted_bam}\")\n",
    "filter_by_size = subprocess.Popen(\n",
    "    f\"awk '(substr($0,1,1)==\\\"@\\\") || ($9>={low} && $9<={high}) || ($9<=-{low} && $9>=-{high})' {sam_all_out}\",\n",
    "    shell=True,\n",
    "    stdout=subprocess.PIPE,\n",
    ")\n",
    "# sort by query name and convert to bam\n",
    "sort_bam = subprocess.Popen(\n",
    "    [\n",
    "        \"samtools\",\n",
    "        \"sort\",\n",
    "        \"-O\",\n",
    "        \"bam\",\n",
    "        \"-o\",\n",
    "        filter_sorted_bam,\n",
    "        \"-@\",\n",
    "        str(num_cpus),\n",
    "        \"-\",  # pipe from filter output stream\n",
    "    ],\n",
    "    stdin=filter_by_size.stdout,\n",
    ")\n",
    "sort_bam.wait()"
   ]
  },
  {
   "cell_type": "code",
   "execution_count": 8,
   "metadata": {},
   "outputs": [
    {
     "name": "stdout",
     "output_type": "stream",
     "text": [
      "bam successfully sorted!\n"
     ]
    }
   ],
   "source": [
    "if sort_bam.returncode != 0:\n",
    "    print(\"sort bam fail\")\n",
    "else:\n",
    "    print(\"bam successfully sorted!\")"
   ]
  },
  {
   "cell_type": "markdown",
   "metadata": {},
   "source": [
    "# Deeptools Create BigWig"
   ]
  },
  {
   "cell_type": "code",
   "execution_count": 9,
   "metadata": {},
   "outputs": [
    {
     "name": "stdout",
     "output_type": "stream",
     "text": [
      "Generating /Extension_HDD1/Xen_PP/data/cXen_Sox17_CR_rep1/cXen_Sox17_CR_rep1.0_120.bigWig\n"
     ]
    },
    {
     "name": "stderr",
     "output_type": "stream",
     "text": [
      "bamFilesList: ['/Extension_HDD1/Xen_PP/data/cXen_Sox17_CR_rep1/cXen_Sox17_CR_rep1.0_120.sorted.bam']\n",
      "binLength: 10\n",
      "numberOfSamples: None\n",
      "blackListFileName: None\n",
      "defaultFragmentLength: read length\n",
      "numberOfProcessors: 30\n",
      "verbose: False\n",
      "region: None\n",
      "bedFile: None\n",
      "minMappingQuality: None\n",
      "ignoreDuplicates: False\n",
      "chrsToSkip: []\n",
      "stepSize: 10\n",
      "center_read: False\n",
      "samFlag_include: None\n",
      "samFlag_exclude: None\n",
      "minFragmentLength: 0\n",
      "maxFragmentLength: 0\n",
      "zerosToNans: False\n",
      "smoothLength: None\n",
      "save_data: False\n",
      "out_file_for_raw_data: None\n",
      "maxPairedFragmentLength: 1000\n"
     ]
    }
   ],
   "source": [
    "bw = f\"{out_prefix}.{low}_{high}.bigWig\"\n",
    "print(f\"Generating {bw}\")\n",
    "\n",
    "# index bam\n",
    "subprocess.run(f\"samtools index {filter_sorted_bam} -@ {num_cpus}\", shell=True)\n",
    "\n",
    "# make bigWig\n",
    "subprocess.run(\n",
    "    f\"bamCoverage -b {filter_sorted_bam} -o {bw} -p {num_cpus} -bs 10\", shell=True\n",
    ")\n",
    "\n",
    "# setup the link for bigWig\n",
    "import random\n",
    "\n",
    "\n",
    "def create_bw_track_controller(bw_path, webdir, host, track_name=None, color=None):\n",
    "    if track_name is None:\n",
    "        track_name = bw_path.split(\"/\")[-1]\n",
    "\n",
    "    if color is None:\n",
    "        color = f\"{random.randrange(0, 256)},{random.randrange(0, 256)},{random.randrange(0, 256)}\"\n",
    "\n",
    "    # host url for the webdir\n",
    "    subprocess.run([\"ln\", \"-s\", os.path.abspath(bw_path), os.path.abspath(webdir)])\n",
    "    track_ctl = (\n",
    "        \"track type=bigWig \"\n",
    "        + f\"name={track_name} \"\n",
    "        + f\"bigDataUrl={host}/{track_name} \"\n",
    "        + f\"color={color} \"\n",
    "        + 'visibility=full yLineOnOff=on autoScale=on yLineMark=\"0.0\" alwaysZero=on graphType=bar maxHeightPixels=128:75:11 windowingFunction=maximum smoothingWindow=off'\n",
    "    )\n",
    "\n",
    "    with open(f\"{bw_path}.track_control.txt\", \"w\") as o:\n",
    "        o.write(track_ctl)\n",
    "\n",
    "    bw = bw_path.split(\"/\")[-1]\n",
    "    with open(f\"{webdir}/{bw}.track_control.txt\", \"w\") as o:\n",
    "        o.write(\n",
    "            \"#\"\n",
    "            + \" \".join([\"ln\", \"-s\", os.path.abspath(bw_path), os.path.abspath(webdir)])\n",
    "            + \"\\n\"\n",
    "        )\n",
    "        o.write(track_ctl)\n",
    "\n",
    "\n",
    "create_bw_track_controller(bw, webdir, url)"
   ]
  },
  {
   "cell_type": "markdown",
   "metadata": {},
   "source": [
    "# MACS2 Call Peaks"
   ]
  },
  {
   "cell_type": "code",
   "execution_count": 10,
   "metadata": {},
   "outputs": [
    {
     "name": "stdout",
     "output_type": "stream",
     "text": [
      "26454 /Extension_HDD1/Xen_PP/data/cXen_Sox17_CR_rep1/cXen_Sox17_CR_rep1_0_120.macs2_peaks.narrowPeak\n"
     ]
    },
    {
     "data": {
      "text/plain": [
       "CompletedProcess(args=['wc', '-l', '/Extension_HDD1/Xen_PP/data/cXen_Sox17_CR_rep1/cXen_Sox17_CR_rep1_0_120.macs2_peaks.narrowPeak'], returncode=0)"
      ]
     },
     "execution_count": 10,
     "metadata": {},
     "output_type": "execute_result"
    }
   ],
   "source": [
    "macs2_out_prefix = f\"{out_prefix}_{low}_{high}.macs2\"\n",
    "\n",
    "with open(f\"{macs2_out_prefix}.log\", \"w\") as log:\n",
    "    macs2_cmd = [\n",
    "        f\"{env_bin}macs2\",\n",
    "        \"callpeak\",\n",
    "        \"-t\",\n",
    "        filter_sorted_bam,\n",
    "        \"-g\",\n",
    "        macs2_genome,\n",
    "        \"-f\",\n",
    "        \"BAMPE\",\n",
    "        \"-n\",\n",
    "        macs2_out_prefix,\n",
    "        \"-q\",\n",
    "        str(0.01),\n",
    "        \"-B\",\n",
    "        \"--SPMR\",\n",
    "        \"--keep-dup\",\n",
    "        str(keep_dup),\n",
    "    ]\n",
    "    if broad:\n",
    "        macs2_cmd.append(\"--broad\")\n",
    "\n",
    "    macs2_callpeaks = subprocess.Popen(\n",
    "        macs2_cmd,\n",
    "        stderr=log,\n",
    "    )\n",
    "    macs2_callpeaks.wait()\n",
    "\n",
    "# peak number\n",
    "subprocess.run([\"wc\", \"-l\", f\"{macs2_out_prefix}_peaks.narrowPeak\"])"
   ]
  },
  {
   "cell_type": "code",
   "execution_count": 16,
   "metadata": {},
   "outputs": [],
   "source": [
    "# Make Bigwig Using Homer\n",
    "\n",
    "# MODIFY THIS CELL\n",
    "# tagdir = f\"{out_prefix}_{low}_{high}.tagdir\"\n",
    "# bigwig_genome = \"mm10\"\n",
    "# url = \"http://unzip.4d-genome.com:8080/paula\"\n",
    "# webdir = \"/usr/local/apache2/htdocs/paula/\"\n",
    "#\n",
    "# subprocess.run(\n",
    "#     f\"makeTagDirectory {tagdir} {filter_sorted_bam} -tbp {keep_dup}\", shell=True\n",
    "# )\n",
    "#\n",
    "# subprocess.run(\n",
    "#     f\"makeBigWig.pl {tagdir} {bigwig_genome} -url NA -webdir NA -update\",\n",
    "#     shell=True,\n",
    "#     stderr=subprocess.DEVNULL,\n",
    "# )\n",
    "#\n",
    "# # setup the link for bigwig\n",
    "# import random\n",
    "#\n",
    "#\n",
    "# def create_bw_track_controller(bw_path, webdir, host, track_name=None, color=None):\n",
    "#     if track_name is None:\n",
    "#         track_name = bw_path.split(\"/\")[-1]\n",
    "#\n",
    "#     if color is None:\n",
    "#         color = f\"{random.randrange(0, 256)},{random.randrange(0, 256)},{random.randrange(0, 256)}\"\n",
    "#\n",
    "#     # host url for the webdir\n",
    "#     subprocess.run([\"ln\", \"-s\", os.path.abspath(bw_path), os.path.abspath(webdir)])\n",
    "#     track_ctl = (\n",
    "#         \"track type=bigWig \"\n",
    "#         + f\"name={track_name} \"\n",
    "#         + f\"bigDataUrl={host}/{track_name} \"\n",
    "#         + f\"color={color} \"\n",
    "#         + 'visibility=full yLineOnOff=on autoScale=on yLineMark=\"0.0\" alwaysZero=on graphType=bar maxHeightPixels=128:75:11 windowingFunction=maximum smoothingWindow=off'\n",
    "#     )\n",
    "#\n",
    "#     with open(f\"{bw_path}.track_control.txt\", \"w\") as o:\n",
    "#         o.write(track_ctl)\n",
    "#\n",
    "#     bw = bw_path.split(\"/\")[-1]\n",
    "#     with open(f\"{webdir}/{bw}.track_control.txt\", \"w\") as o:\n",
    "#         o.write(\n",
    "#             \"#\"\n",
    "#             + \" \".join([\"ln\", \"-s\", os.path.abspath(bw_path), os.path.abspath(webdir)])\n",
    "#             + \"\\n\"\n",
    "#         )\n",
    "#         o.write(track_ctl)\n",
    "#\n",
    "#\n",
    "# prefix = tagdir.split(\"/\")[-1]\n",
    "# create_bw_track_controller(f\"{tagdir}/{prefix}.ucsc.bigWig\", webdir, url)\n",
    "\n",
    "# (Optional) Remove Duplications\n",
    "# final_bam = f\"{out_prefix}.{low}_{high}.sorted.rmdup.bam\"\n",
    "#\n",
    "# subprocess.run(\n",
    "# \t[\n",
    "# \t\t\"picard\",\n",
    "# \t\t\"MarkDuplicates\",\n",
    "# \t\t\"--INPUT\",\n",
    "# \t\tfilter_sorted_bam,\n",
    "# \t\t\"--OUTPUT\",\n",
    "#   \t\tfinal_bam,\n",
    "# \t\t\"--M\",\n",
    "# \t\tf\"{final_bam}.picard_rmdup.metrics\",\n",
    "# \t\t\"--ASSUME_SORT_ORDER\",\n",
    "# \t\t\"queryname\"\n",
    "# \t]\n",
    "# \tstderr = subprocess.DEVNULL\n",
    "# )"
   ]
  },
  {
   "cell_type": "code",
   "execution_count": null,
   "metadata": {},
   "outputs": [],
   "source": []
  }
 ],
 "metadata": {
  "interpreter": {
   "hash": "3626d23fe839ffd6285eff9c2853dcb632ccc840095ca4023c798b801b1c8681"
  },
  "kernelspec": {
   "display_name": "macs2",
   "language": "python",
   "name": "macs2"
  },
  "language_info": {
   "codemirror_mode": {
    "name": "ipython",
    "version": 3
   },
   "file_extension": ".py",
   "mimetype": "text/x-python",
   "name": "python",
   "nbconvert_exporter": "python",
   "pygments_lexer": "ipython3",
   "version": "3.9.6"
  }
 },
 "nbformat": 4,
 "nbformat_minor": 4
}
