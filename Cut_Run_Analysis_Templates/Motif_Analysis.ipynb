{
 "cells": [
  {
   "cell_type": "code",
   "execution_count": 5,
   "id": "610849ca-8fb1-4190-a8ab-9b6302a227e0",
   "metadata": {},
   "outputs": [],
   "source": [
    "%load_ext lab_black\n",
    "import subprocess, os"
   ]
  },
  {
   "cell_type": "code",
   "execution_count": 3,
   "id": "ca54e71a-1b26-42f0-b173-de6ca663b5c3",
   "metadata": {},
   "outputs": [],
   "source": [
    "out_dir = \"/Extension_HDD1/Xen_PP/data/cXen_FoxA2_CR_rep2/\"\n",
    "peak_summit = \"/Extension_HDD1/Xen_PP/data/cXen_FoxA2_CR_rep2/cXen_FoxA2_CR_rep2_0_120.bowtie_tune.macs2_summits.bed\"\n",
    "mask_genome_fa = \"/Extension_HDD1/mouse_embryo_sc_rna_seq/mESC_PrE/cutandrun_test/hts.igb.uci.edu/paulap21071953/mm10.fa\"\n",
    "peak_size = 300\n",
    "out_prefix = out_dir + peak_summit.split(\"/\")[-1]"
   ]
  },
  {
   "cell_type": "markdown",
   "id": "13ded78b-89bb-4c84-9d47-291fb3b3ad8e",
   "metadata": {
    "tags": []
   },
   "source": [
    "# Remove Peaks with Repeats"
   ]
  },
  {
   "cell_type": "markdown",
   "id": "20378e2f-f6d9-4e27-8bd6-2fdfc835cf64",
   "metadata": {},
   "source": [
    "Sequence of padded peaks"
   ]
  },
  {
   "cell_type": "code",
   "execution_count": 7,
   "id": "c528851f-e5fa-4dd2-ad56-635dad9ee5cd",
   "metadata": {},
   "outputs": [
    {
     "name": "stderr",
     "output_type": "stream",
     "text": [
      "Feature (chrUn_JH584304:114237-114538) beyond the length of chrUn_JH584304 size (114452 bp).  Skipping.\n"
     ]
    },
    {
     "data": {
      "text/plain": [
       "CompletedProcess(args='bedtools getfasta -fi /Extension_HDD1/mouse_embryo_sc_rna_seq/mESC_PrE/cutandrun_test/hts.igb.uci.edu/paulap21071953/mm10.fa -bed /Extension_HDD1/Xen_PP/data/cXen_FoxA2_CR_rep2/cXen_FoxA2_CR_rep2_0_120.bowtie_tune.macs2_summits.bed.padded_300.bed -fo /Extension_HDD1/Xen_PP/data/cXen_FoxA2_CR_rep2/cXen_FoxA2_CR_rep2_0_120.bowtie_tune.macs2_summits.bed.padded_300.fa', returncode=0)"
      ]
     },
     "execution_count": 7,
     "metadata": {},
     "output_type": "execute_result"
    }
   ],
   "source": [
    "padded_peaks = f\"{out_prefix}.padded_{peak_size}.bed\"\n",
    "with open(padded_peaks, \"w\") as o:\n",
    "    subprocess.run(\n",
    "        f\"bedops --range {int(peak_size / 2)} -u {peak_summit}\", shell=True, stdout=o\n",
    "    )\n",
    "\n",
    "padded_peaks_fa = f\"{out_prefix}.padded_{peak_size}.fa\"\n",
    "subprocess.run(\n",
    "    f\"bedtools getfasta -fi {mask_genome_fa} -bed {padded_peaks} -fo {padded_peaks_fa}\",\n",
    "    shell=True,\n",
    ")"
   ]
  },
  {
   "cell_type": "markdown",
   "id": "d7d49eed-0a0f-405b-b88a-dbb91bdf02d8",
   "metadata": {},
   "source": [
    "Remove repeats"
   ]
  },
  {
   "cell_type": "code",
   "execution_count": 2,
   "id": "2a5b6c96-fbf2-4d4c-aeee-6e556d9c85e4",
   "metadata": {},
   "outputs": [],
   "source": [
    "# using pipeline from: https://bitbucket.org/qzhudfci/cutruntools/src/master/\n",
    "# \"CUT&RUNTools: a flexible pipeline for CUT&RUN processing and footprint analysis\", Qian Zhu et al, 2019\n",
    "filter_repeat_script = \"/Extension_HDD1/mouse_embryo_sc_rna_seq/mESC_PrE/cutandrun_test/hts.igb.uci.edu/paulap21071953/cutruntools/macs2.narrow.aug18/filter.py\""
   ]
  },
  {
   "cell_type": "code",
   "execution_count": 10,
   "id": "32d6ba3f-ca18-4310-ad51-4a823d5197c2",
   "metadata": {},
   "outputs": [],
   "source": [
    "peaks_has_repeats = f\"{out_prefix}.repeat_summits.bed\"\n",
    "with open(peaks_has_repeats, \"w\") as o:\n",
    "    subprocess.run(\n",
    "        f\"{filter_repeat_script} {padded_peaks_fa} {peak_size}\", shell=True, stdout=o\n",
    "    )\n",
    "\n",
    "filtered_peaks_summits = f\"{out_prefix}.filtered_summits.bed\"\n",
    "with open(filtered_peaks_summits, \"w\") as o:\n",
    "    subprocess.run(\n",
    "        f\"bedops -n 1 {peak_summit} {peaks_has_repeats}\", shell=True, stdout=o\n",
    "    )"
   ]
  },
  {
   "cell_type": "markdown",
   "id": "bf7458b2-6bb9-4619-961b-23a069b74f7a",
   "metadata": {},
   "source": [
    "Sequence of filtered peaks"
   ]
  },
  {
   "cell_type": "code",
   "execution_count": 11,
   "id": "8126ea9e-3d2b-497f-af9e-f9ff086c5bd8",
   "metadata": {},
   "outputs": [
    {
     "name": "stderr",
     "output_type": "stream",
     "text": [
      "Feature (chrUn_JH584304:114237-114538) beyond the length of chrUn_JH584304 size (114452 bp).  Skipping.\n"
     ]
    },
    {
     "data": {
      "text/plain": [
       "CompletedProcess(args='bedtools getfasta -fi /Extension_HDD1/mouse_embryo_sc_rna_seq/mESC_PrE/cutandrun_test/hts.igb.uci.edu/paulap21071953/mm10.fa -bed - -fo /Extension_HDD1/Xen_PP/data/cXen_FoxA2_CR_rep2/cXen_FoxA2_CR_rep2_0_120.bowtie_tune.macs2_summits.bed.filtered_summits.padded_300.fa', returncode=0)"
      ]
     },
     "execution_count": 11,
     "metadata": {},
     "output_type": "execute_result"
    }
   ],
   "source": [
    "padding_proc = subprocess.Popen(\n",
    "    f\"bedops --range {int(peak_size / 2)} -u {filtered_peaks_summits}\",\n",
    "    shell=True,\n",
    "    stdout=subprocess.PIPE,\n",
    ")\n",
    "\n",
    "filtered_padded_peaks_fa = f\"{out_prefix}.filtered_summits.padded_{peak_size}.fa\"\n",
    "subprocess.run(\n",
    "    f\"bedtools getfasta -fi {mask_genome_fa} -bed - -fo {filtered_padded_peaks_fa}\",\n",
    "    shell=True,\n",
    "    stdin=padding_proc.stdout,\n",
    ")"
   ]
  },
  {
   "cell_type": "markdown",
   "id": "f9eabb78-6b09-4627-8c45-fc6c645ca60b",
   "metadata": {},
   "source": [
    "# Run Meme"
   ]
  },
  {
   "cell_type": "code",
   "execution_count": 12,
   "id": "1f98fef9-74c4-45b6-9e8c-7194d89f7d67",
   "metadata": {
    "collapsed": true,
    "jupyter": {
     "outputs_hidden": true
    },
    "tags": []
   },
   "outputs": [
    {
     "name": "stdout",
     "output_type": "stream",
     "text": [
      "Starting getsize: getsize /Extension_HDD1/Xen_PP/data/cXen_FoxA2_CR_rep2/cXen_FoxA2_CR_rep2_0_120.bowtie_tune.macs2_summits.bed.meme_5000_sample/cXen_FoxA2_CR_rep2_0_120.bowtie_tune.macs2_summits.bed.filtered_summits.padded_300.fa 1> $metrics\n",
      "getsize ran successfully in 0.140448 seconds\n",
      "Starting fasta-most: fasta-most -min 50 < /Extension_HDD1/Xen_PP/data/cXen_FoxA2_CR_rep2/cXen_FoxA2_CR_rep2_0_120.bowtie_tune.macs2_summits.bed.meme_5000_sample/cXen_FoxA2_CR_rep2_0_120.bowtie_tune.macs2_summits.bed.filtered_summits.padded_300.fa 1> $metrics\n",
      "fasta-most ran successfully in 0.139545 seconds\n",
      "Starting fasta-center: fasta-center -dna -len 100 < /Extension_HDD1/Xen_PP/data/cXen_FoxA2_CR_rep2/cXen_FoxA2_CR_rep2_0_120.bowtie_tune.macs2_summits.bed.meme_5000_sample/cXen_FoxA2_CR_rep2_0_120.bowtie_tune.macs2_summits.bed.filtered_summits.padded_300.fa 1> /Extension_HDD1/Xen_PP/data/cXen_FoxA2_CR_rep2/cXen_FoxA2_CR_rep2_0_120.bowtie_tune.macs2_summits.bed.meme_5000_sample/seqs-centered\n",
      "fasta-center ran successfully in 0.243593 seconds\n",
      "Starting fasta-get-markov: fasta-get-markov -nostatus -nosummary -dna -m 2 /Extension_HDD1/Xen_PP/data/cXen_FoxA2_CR_rep2/cXen_FoxA2_CR_rep2_0_120.bowtie_tune.macs2_summits.bed.meme_5000_sample/cXen_FoxA2_CR_rep2_0_120.bowtie_tune.macs2_summits.bed.filtered_summits.padded_300.fa /Extension_HDD1/Xen_PP/data/cXen_FoxA2_CR_rep2/cXen_FoxA2_CR_rep2_0_120.bowtie_tune.macs2_summits.bed.meme_5000_sample/background\n",
      "fasta-get-markov ran successfully in 0.131726 seconds\n",
      "Starting meme: meme /Extension_HDD1/Xen_PP/data/cXen_FoxA2_CR_rep2/cXen_FoxA2_CR_rep2_0_120.bowtie_tune.macs2_summits.bed.meme_5000_sample/seqs-centered -oc /Extension_HDD1/Xen_PP/data/cXen_FoxA2_CR_rep2/cXen_FoxA2_CR_rep2_0_120.bowtie_tune.macs2_summits.bed.meme_5000_sample/meme_out -mod zoops -nmotifs 20 -minw 6 -maxw 15 -bfile /Extension_HDD1/Xen_PP/data/cXen_FoxA2_CR_rep2/cXen_FoxA2_CR_rep2_0_120.bowtie_tune.macs2_summits.bed.meme_5000_sample/background -dna -searchsize 1500000 -p 10 -revcomp -nostatus\n",
      "meme ran successfully in 743.780205 seconds\n",
      "Starting streme: streme -verbosity 1 -oc /Extension_HDD1/Xen_PP/data/cXen_FoxA2_CR_rep2/cXen_FoxA2_CR_rep2_0_120.bowtie_tune.macs2_summits.bed.meme_5000_sample/streme_out -dna -p /Extension_HDD1/Xen_PP/data/cXen_FoxA2_CR_rep2/cXen_FoxA2_CR_rep2_0_120.bowtie_tune.macs2_summits.bed.meme_5000_sample/seqs-centered -minw 6 -maxw 15 -kmer 3 -nmotifs 20\n",
      "streme ran successfully in 1315.888154 seconds\n",
      "Starting centrimo: centrimo -seqlen 301 -verbosity 1 -oc /Extension_HDD1/Xen_PP/data/cXen_FoxA2_CR_rep2/cXen_FoxA2_CR_rep2_0_120.bowtie_tune.macs2_summits.bed.meme_5000_sample/centrimo_out -bfile /Extension_HDD1/Xen_PP/data/cXen_FoxA2_CR_rep2/cXen_FoxA2_CR_rep2_0_120.bowtie_tune.macs2_summits.bed.meme_5000_sample/background /Extension_HDD1/Xen_PP/data/cXen_FoxA2_CR_rep2/cXen_FoxA2_CR_rep2_0_120.bowtie_tune.macs2_summits.bed.meme_5000_sample/cXen_FoxA2_CR_rep2_0_120.bowtie_tune.macs2_summits.bed.filtered_summits.padded_300.fa /Extension_HDD1/Xen_PP/data/cXen_FoxA2_CR_rep2/cXen_FoxA2_CR_rep2_0_120.bowtie_tune.macs2_summits.bed.meme_5000_sample/meme_out/meme.xml /Extension_HDD1/Xen_PP/data/cXen_FoxA2_CR_rep2/cXen_FoxA2_CR_rep2_0_120.bowtie_tune.macs2_summits.bed.meme_5000_sample/streme_out/streme.xml\n",
      "Skipping sequence chrUn_GL456370:0-230 as its length (230) does not match the expected length (301).\n",
      "Bad file name.\n",
      "Bad file name.\n",
      "Bad file name.\n",
      "Bad file name.\n",
      "Bad file name.\n",
      "Bad file name.\n",
      "Bad file name.\n",
      "Bad file name.\n",
      "Bad file name.\n",
      "Bad file name.\n",
      "Bad file name.\n",
      "Bad file name.\n",
      "Bad file name.\n",
      "Bad file name.\n",
      "Bad file name.\n",
      "FATAL: Template does not contain data section.\n",
      "\n",
      "centrimo exited with error code 1\n",
      "Starting tomtom: tomtom -verbosity 1 -text -thresh 0.1 /Extension_HDD1/Xen_PP/data/cXen_FoxA2_CR_rep2/cXen_FoxA2_CR_rep2_0_120.bowtie_tune.macs2_summits.bed.meme_5000_sample/combined.meme /Extension_HDD1/Xen_PP/data/cXen_FoxA2_CR_rep2/cXen_FoxA2_CR_rep2_0_120.bowtie_tune.macs2_summits.bed.meme_5000_sample/combined.meme 1> /Extension_HDD1/Xen_PP/data/cXen_FoxA2_CR_rep2/cXen_FoxA2_CR_rep2_0_120.bowtie_tune.macs2_summits.bed.meme_5000_sample/motif_alignment.txt\n",
      "tomtom ran successfully in 0.523741 seconds\n",
      "Starting spamo: spamo -verbosity 1 -oc /Extension_HDD1/Xen_PP/data/cXen_FoxA2_CR_rep2/cXen_FoxA2_CR_rep2_0_120.bowtie_tune.macs2_summits.bed.meme_5000_sample/spamo_out_1 -bgfile /Extension_HDD1/Xen_PP/data/cXen_FoxA2_CR_rep2/cXen_FoxA2_CR_rep2_0_120.bowtie_tune.macs2_summits.bed.meme_5000_sample/background -keepprimary -primary HWAARYAAACAAAVM /Extension_HDD1/Xen_PP/data/cXen_FoxA2_CR_rep2/cXen_FoxA2_CR_rep2_0_120.bowtie_tune.macs2_summits.bed.meme_5000_sample/cXen_FoxA2_CR_rep2_0_120.bowtie_tune.macs2_summits.bed.filtered_summits.padded_300.fa /Extension_HDD1/Xen_PP/data/cXen_FoxA2_CR_rep2/cXen_FoxA2_CR_rep2_0_120.bowtie_tune.macs2_summits.bed.meme_5000_sample/meme_out/meme.xml /Extension_HDD1/Xen_PP/data/cXen_FoxA2_CR_rep2/cXen_FoxA2_CR_rep2_0_120.bowtie_tune.macs2_summits.bed.meme_5000_sample/meme_out/meme.xml /Extension_HDD1/Xen_PP/data/cXen_FoxA2_CR_rep2/cXen_FoxA2_CR_rep2_0_120.bowtie_tune.macs2_summits.bed.meme_5000_sample/streme_out/streme.xml\n",
      "spamo exited with error code 1\n",
      "Starting spamo: spamo -verbosity 1 -oc /Extension_HDD1/Xen_PP/data/cXen_FoxA2_CR_rep2/cXen_FoxA2_CR_rep2_0_120.bowtie_tune.macs2_summits.bed.meme_5000_sample/spamo_out_1 -bgfile /Extension_HDD1/Xen_PP/data/cXen_FoxA2_CR_rep2/cXen_FoxA2_CR_rep2_0_120.bowtie_tune.macs2_summits.bed.meme_5000_sample/background -keepprimary -primary GSVGGGGGCGGGGCB /Extension_HDD1/Xen_PP/data/cXen_FoxA2_CR_rep2/cXen_FoxA2_CR_rep2_0_120.bowtie_tune.macs2_summits.bed.meme_5000_sample/cXen_FoxA2_CR_rep2_0_120.bowtie_tune.macs2_summits.bed.filtered_summits.padded_300.fa /Extension_HDD1/Xen_PP/data/cXen_FoxA2_CR_rep2/cXen_FoxA2_CR_rep2_0_120.bowtie_tune.macs2_summits.bed.meme_5000_sample/meme_out/meme.xml /Extension_HDD1/Xen_PP/data/cXen_FoxA2_CR_rep2/cXen_FoxA2_CR_rep2_0_120.bowtie_tune.macs2_summits.bed.meme_5000_sample/meme_out/meme.xml /Extension_HDD1/Xen_PP/data/cXen_FoxA2_CR_rep2/cXen_FoxA2_CR_rep2_0_120.bowtie_tune.macs2_summits.bed.meme_5000_sample/streme_out/streme.xml\n",
      "spamo exited with error code 1\n",
      "Starting spamo: spamo -verbosity 1 -oc /Extension_HDD1/Xen_PP/data/cXen_FoxA2_CR_rep2/cXen_FoxA2_CR_rep2_0_120.bowtie_tune.macs2_summits.bed.meme_5000_sample/spamo_out_1 -bgfile /Extension_HDD1/Xen_PP/data/cXen_FoxA2_CR_rep2/cXen_FoxA2_CR_rep2_0_120.bowtie_tune.macs2_summits.bed.meme_5000_sample/background -keepprimary -primary 3-RAACAATGGM /Extension_HDD1/Xen_PP/data/cXen_FoxA2_CR_rep2/cXen_FoxA2_CR_rep2_0_120.bowtie_tune.macs2_summits.bed.meme_5000_sample/cXen_FoxA2_CR_rep2_0_120.bowtie_tune.macs2_summits.bed.filtered_summits.padded_300.fa /Extension_HDD1/Xen_PP/data/cXen_FoxA2_CR_rep2/cXen_FoxA2_CR_rep2_0_120.bowtie_tune.macs2_summits.bed.meme_5000_sample/streme_out/streme.xml /Extension_HDD1/Xen_PP/data/cXen_FoxA2_CR_rep2/cXen_FoxA2_CR_rep2_0_120.bowtie_tune.macs2_summits.bed.meme_5000_sample/meme_out/meme.xml /Extension_HDD1/Xen_PP/data/cXen_FoxA2_CR_rep2/cXen_FoxA2_CR_rep2_0_120.bowtie_tune.macs2_summits.bed.meme_5000_sample/streme_out/streme.xml\n",
      "spamo exited with error code 1\n",
      "Starting spamo: spamo -verbosity 1 -oc /Extension_HDD1/Xen_PP/data/cXen_FoxA2_CR_rep2/cXen_FoxA2_CR_rep2_0_120.bowtie_tune.macs2_summits.bed.meme_5000_sample/spamo_out_1 -bgfile /Extension_HDD1/Xen_PP/data/cXen_FoxA2_CR_rep2/cXen_FoxA2_CR_rep2_0_120.bowtie_tune.macs2_summits.bed.meme_5000_sample/background -keepprimary -primary 4-AGATAAGVD /Extension_HDD1/Xen_PP/data/cXen_FoxA2_CR_rep2/cXen_FoxA2_CR_rep2_0_120.bowtie_tune.macs2_summits.bed.meme_5000_sample/cXen_FoxA2_CR_rep2_0_120.bowtie_tune.macs2_summits.bed.filtered_summits.padded_300.fa /Extension_HDD1/Xen_PP/data/cXen_FoxA2_CR_rep2/cXen_FoxA2_CR_rep2_0_120.bowtie_tune.macs2_summits.bed.meme_5000_sample/streme_out/streme.xml /Extension_HDD1/Xen_PP/data/cXen_FoxA2_CR_rep2/cXen_FoxA2_CR_rep2_0_120.bowtie_tune.macs2_summits.bed.meme_5000_sample/meme_out/meme.xml /Extension_HDD1/Xen_PP/data/cXen_FoxA2_CR_rep2/cXen_FoxA2_CR_rep2_0_120.bowtie_tune.macs2_summits.bed.meme_5000_sample/streme_out/streme.xml\n",
      "spamo exited with error code 1\n",
      "Starting spamo: spamo -verbosity 1 -oc /Extension_HDD1/Xen_PP/data/cXen_FoxA2_CR_rep2/cXen_FoxA2_CR_rep2_0_120.bowtie_tune.macs2_summits.bed.meme_5000_sample/spamo_out_1 -bgfile /Extension_HDD1/Xen_PP/data/cXen_FoxA2_CR_rep2/cXen_FoxA2_CR_rep2_0_120.bowtie_tune.macs2_summits.bed.meme_5000_sample/background -keepprimary -primary 5-RTGASTCAY /Extension_HDD1/Xen_PP/data/cXen_FoxA2_CR_rep2/cXen_FoxA2_CR_rep2_0_120.bowtie_tune.macs2_summits.bed.meme_5000_sample/cXen_FoxA2_CR_rep2_0_120.bowtie_tune.macs2_summits.bed.filtered_summits.padded_300.fa /Extension_HDD1/Xen_PP/data/cXen_FoxA2_CR_rep2/cXen_FoxA2_CR_rep2_0_120.bowtie_tune.macs2_summits.bed.meme_5000_sample/streme_out/streme.xml /Extension_HDD1/Xen_PP/data/cXen_FoxA2_CR_rep2/cXen_FoxA2_CR_rep2_0_120.bowtie_tune.macs2_summits.bed.meme_5000_sample/meme_out/meme.xml /Extension_HDD1/Xen_PP/data/cXen_FoxA2_CR_rep2/cXen_FoxA2_CR_rep2_0_120.bowtie_tune.macs2_summits.bed.meme_5000_sample/streme_out/streme.xml\n",
      "spamo exited with error code 1\n",
      "Starting spamo: spamo -verbosity 1 -oc /Extension_HDD1/Xen_PP/data/cXen_FoxA2_CR_rep2/cXen_FoxA2_CR_rep2_0_120.bowtie_tune.macs2_summits.bed.meme_5000_sample/spamo_out_1 -bgfile /Extension_HDD1/Xen_PP/data/cXen_FoxA2_CR_rep2/cXen_FoxA2_CR_rep2_0_120.bowtie_tune.macs2_summits.bed.meme_5000_sample/background -keepprimary -primary 7-NVTGACGTCABN /Extension_HDD1/Xen_PP/data/cXen_FoxA2_CR_rep2/cXen_FoxA2_CR_rep2_0_120.bowtie_tune.macs2_summits.bed.meme_5000_sample/cXen_FoxA2_CR_rep2_0_120.bowtie_tune.macs2_summits.bed.filtered_summits.padded_300.fa /Extension_HDD1/Xen_PP/data/cXen_FoxA2_CR_rep2/cXen_FoxA2_CR_rep2_0_120.bowtie_tune.macs2_summits.bed.meme_5000_sample/streme_out/streme.xml /Extension_HDD1/Xen_PP/data/cXen_FoxA2_CR_rep2/cXen_FoxA2_CR_rep2_0_120.bowtie_tune.macs2_summits.bed.meme_5000_sample/meme_out/meme.xml /Extension_HDD1/Xen_PP/data/cXen_FoxA2_CR_rep2/cXen_FoxA2_CR_rep2_0_120.bowtie_tune.macs2_summits.bed.meme_5000_sample/streme_out/streme.xml\n",
      "spamo exited with error code 1\n",
      "Starting spamo: spamo -verbosity 1 -oc /Extension_HDD1/Xen_PP/data/cXen_FoxA2_CR_rep2/cXen_FoxA2_CR_rep2_0_120.bowtie_tune.macs2_summits.bed.meme_5000_sample/spamo_out_1 -bgfile /Extension_HDD1/Xen_PP/data/cXen_FoxA2_CR_rep2/cXen_FoxA2_CR_rep2_0_120.bowtie_tune.macs2_summits.bed.meme_5000_sample/background -keepprimary -primary 9-MGTCACT /Extension_HDD1/Xen_PP/data/cXen_FoxA2_CR_rep2/cXen_FoxA2_CR_rep2_0_120.bowtie_tune.macs2_summits.bed.meme_5000_sample/cXen_FoxA2_CR_rep2_0_120.bowtie_tune.macs2_summits.bed.filtered_summits.padded_300.fa /Extension_HDD1/Xen_PP/data/cXen_FoxA2_CR_rep2/cXen_FoxA2_CR_rep2_0_120.bowtie_tune.macs2_summits.bed.meme_5000_sample/streme_out/streme.xml /Extension_HDD1/Xen_PP/data/cXen_FoxA2_CR_rep2/cXen_FoxA2_CR_rep2_0_120.bowtie_tune.macs2_summits.bed.meme_5000_sample/meme_out/meme.xml /Extension_HDD1/Xen_PP/data/cXen_FoxA2_CR_rep2/cXen_FoxA2_CR_rep2_0_120.bowtie_tune.macs2_summits.bed.meme_5000_sample/streme_out/streme.xml\n",
      "spamo exited with error code 1\n",
      "Starting spamo: spamo -verbosity 1 -oc /Extension_HDD1/Xen_PP/data/cXen_FoxA2_CR_rep2/cXen_FoxA2_CR_rep2_0_120.bowtie_tune.macs2_summits.bed.meme_5000_sample/spamo_out_1 -bgfile /Extension_HDD1/Xen_PP/data/cXen_FoxA2_CR_rep2/cXen_FoxA2_CR_rep2_0_120.bowtie_tune.macs2_summits.bed.meme_5000_sample/background -keepprimary -primary 10-GCGCATGCGC /Extension_HDD1/Xen_PP/data/cXen_FoxA2_CR_rep2/cXen_FoxA2_CR_rep2_0_120.bowtie_tune.macs2_summits.bed.meme_5000_sample/cXen_FoxA2_CR_rep2_0_120.bowtie_tune.macs2_summits.bed.filtered_summits.padded_300.fa /Extension_HDD1/Xen_PP/data/cXen_FoxA2_CR_rep2/cXen_FoxA2_CR_rep2_0_120.bowtie_tune.macs2_summits.bed.meme_5000_sample/streme_out/streme.xml /Extension_HDD1/Xen_PP/data/cXen_FoxA2_CR_rep2/cXen_FoxA2_CR_rep2_0_120.bowtie_tune.macs2_summits.bed.meme_5000_sample/meme_out/meme.xml /Extension_HDD1/Xen_PP/data/cXen_FoxA2_CR_rep2/cXen_FoxA2_CR_rep2_0_120.bowtie_tune.macs2_summits.bed.meme_5000_sample/streme_out/streme.xml\n",
      "spamo exited with error code 1\n",
      "Starting spamo: spamo -verbosity 1 -oc /Extension_HDD1/Xen_PP/data/cXen_FoxA2_CR_rep2/cXen_FoxA2_CR_rep2_0_120.bowtie_tune.macs2_summits.bed.meme_5000_sample/spamo_out_1 -bgfile /Extension_HDD1/Xen_PP/data/cXen_FoxA2_CR_rep2/cXen_FoxA2_CR_rep2_0_120.bowtie_tune.macs2_summits.bed.meme_5000_sample/background -keepprimary -primary 11-HAGGAATGTN /Extension_HDD1/Xen_PP/data/cXen_FoxA2_CR_rep2/cXen_FoxA2_CR_rep2_0_120.bowtie_tune.macs2_summits.bed.meme_5000_sample/cXen_FoxA2_CR_rep2_0_120.bowtie_tune.macs2_summits.bed.filtered_summits.padded_300.fa /Extension_HDD1/Xen_PP/data/cXen_FoxA2_CR_rep2/cXen_FoxA2_CR_rep2_0_120.bowtie_tune.macs2_summits.bed.meme_5000_sample/streme_out/streme.xml /Extension_HDD1/Xen_PP/data/cXen_FoxA2_CR_rep2/cXen_FoxA2_CR_rep2_0_120.bowtie_tune.macs2_summits.bed.meme_5000_sample/meme_out/meme.xml /Extension_HDD1/Xen_PP/data/cXen_FoxA2_CR_rep2/cXen_FoxA2_CR_rep2_0_120.bowtie_tune.macs2_summits.bed.meme_5000_sample/streme_out/streme.xml\n",
      "spamo exited with error code 1\n",
      "Starting spamo: spamo -verbosity 1 -oc /Extension_HDD1/Xen_PP/data/cXen_FoxA2_CR_rep2/cXen_FoxA2_CR_rep2_0_120.bowtie_tune.macs2_summits.bed.meme_5000_sample/spamo_out_1 -bgfile /Extension_HDD1/Xen_PP/data/cXen_FoxA2_CR_rep2/cXen_FoxA2_CR_rep2_0_120.bowtie_tune.macs2_summits.bed.meme_5000_sample/background -keepprimary -primary 13-CACTTCCGG /Extension_HDD1/Xen_PP/data/cXen_FoxA2_CR_rep2/cXen_FoxA2_CR_rep2_0_120.bowtie_tune.macs2_summits.bed.meme_5000_sample/cXen_FoxA2_CR_rep2_0_120.bowtie_tune.macs2_summits.bed.filtered_summits.padded_300.fa /Extension_HDD1/Xen_PP/data/cXen_FoxA2_CR_rep2/cXen_FoxA2_CR_rep2_0_120.bowtie_tune.macs2_summits.bed.meme_5000_sample/streme_out/streme.xml /Extension_HDD1/Xen_PP/data/cXen_FoxA2_CR_rep2/cXen_FoxA2_CR_rep2_0_120.bowtie_tune.macs2_summits.bed.meme_5000_sample/meme_out/meme.xml /Extension_HDD1/Xen_PP/data/cXen_FoxA2_CR_rep2/cXen_FoxA2_CR_rep2_0_120.bowtie_tune.macs2_summits.bed.meme_5000_sample/streme_out/streme.xml\n",
      "spamo exited with error code 1\n",
      "Starting spamo: spamo -verbosity 1 -oc /Extension_HDD1/Xen_PP/data/cXen_FoxA2_CR_rep2/cXen_FoxA2_CR_rep2_0_120.bowtie_tune.macs2_summits.bed.meme_5000_sample/spamo_out_1 -bgfile /Extension_HDD1/Xen_PP/data/cXen_FoxA2_CR_rep2/cXen_FoxA2_CR_rep2_0_120.bowtie_tune.macs2_summits.bed.meme_5000_sample/background -keepprimary -primary 14-RACTACAWYTCCCAG /Extension_HDD1/Xen_PP/data/cXen_FoxA2_CR_rep2/cXen_FoxA2_CR_rep2_0_120.bowtie_tune.macs2_summits.bed.meme_5000_sample/cXen_FoxA2_CR_rep2_0_120.bowtie_tune.macs2_summits.bed.filtered_summits.padded_300.fa /Extension_HDD1/Xen_PP/data/cXen_FoxA2_CR_rep2/cXen_FoxA2_CR_rep2_0_120.bowtie_tune.macs2_summits.bed.meme_5000_sample/streme_out/streme.xml /Extension_HDD1/Xen_PP/data/cXen_FoxA2_CR_rep2/cXen_FoxA2_CR_rep2_0_120.bowtie_tune.macs2_summits.bed.meme_5000_sample/meme_out/meme.xml /Extension_HDD1/Xen_PP/data/cXen_FoxA2_CR_rep2/cXen_FoxA2_CR_rep2_0_120.bowtie_tune.macs2_summits.bed.meme_5000_sample/streme_out/streme.xml\n",
      "spamo exited with error code 1\n",
      "Starting spamo: spamo -verbosity 1 -oc /Extension_HDD1/Xen_PP/data/cXen_FoxA2_CR_rep2/cXen_FoxA2_CR_rep2_0_120.bowtie_tune.macs2_summits.bed.meme_5000_sample/spamo_out_1 -bgfile /Extension_HDD1/Xen_PP/data/cXen_FoxA2_CR_rep2/cXen_FoxA2_CR_rep2_0_120.bowtie_tune.macs2_summits.bed.meme_5000_sample/background -keepprimary -primary 15-CCATGGCAACC /Extension_HDD1/Xen_PP/data/cXen_FoxA2_CR_rep2/cXen_FoxA2_CR_rep2_0_120.bowtie_tune.macs2_summits.bed.meme_5000_sample/cXen_FoxA2_CR_rep2_0_120.bowtie_tune.macs2_summits.bed.filtered_summits.padded_300.fa /Extension_HDD1/Xen_PP/data/cXen_FoxA2_CR_rep2/cXen_FoxA2_CR_rep2_0_120.bowtie_tune.macs2_summits.bed.meme_5000_sample/streme_out/streme.xml /Extension_HDD1/Xen_PP/data/cXen_FoxA2_CR_rep2/cXen_FoxA2_CR_rep2_0_120.bowtie_tune.macs2_summits.bed.meme_5000_sample/meme_out/meme.xml /Extension_HDD1/Xen_PP/data/cXen_FoxA2_CR_rep2/cXen_FoxA2_CR_rep2_0_120.bowtie_tune.macs2_summits.bed.meme_5000_sample/streme_out/streme.xml\n",
      "spamo exited with error code 1\n",
      "Starting spamo: spamo -verbosity 1 -oc /Extension_HDD1/Xen_PP/data/cXen_FoxA2_CR_rep2/cXen_FoxA2_CR_rep2_0_120.bowtie_tune.macs2_summits.bed.meme_5000_sample/spamo_out_1 -bgfile /Extension_HDD1/Xen_PP/data/cXen_FoxA2_CR_rep2/cXen_FoxA2_CR_rep2_0_120.bowtie_tune.macs2_summits.bed.meme_5000_sample/background -keepprimary -primary 17-TCTCGCGAGA /Extension_HDD1/Xen_PP/data/cXen_FoxA2_CR_rep2/cXen_FoxA2_CR_rep2_0_120.bowtie_tune.macs2_summits.bed.meme_5000_sample/cXen_FoxA2_CR_rep2_0_120.bowtie_tune.macs2_summits.bed.filtered_summits.padded_300.fa /Extension_HDD1/Xen_PP/data/cXen_FoxA2_CR_rep2/cXen_FoxA2_CR_rep2_0_120.bowtie_tune.macs2_summits.bed.meme_5000_sample/streme_out/streme.xml /Extension_HDD1/Xen_PP/data/cXen_FoxA2_CR_rep2/cXen_FoxA2_CR_rep2_0_120.bowtie_tune.macs2_summits.bed.meme_5000_sample/meme_out/meme.xml /Extension_HDD1/Xen_PP/data/cXen_FoxA2_CR_rep2/cXen_FoxA2_CR_rep2_0_120.bowtie_tune.macs2_summits.bed.meme_5000_sample/streme_out/streme.xml\n",
      "spamo exited with error code 1\n",
      "Starting fimo: fimo --parse-genomic-coord --verbosity 1 --oc /Extension_HDD1/Xen_PP/data/cXen_FoxA2_CR_rep2/cXen_FoxA2_CR_rep2_0_120.bowtie_tune.macs2_summits.bed.meme_5000_sample/fimo_out_1 --bgfile /Extension_HDD1/Xen_PP/data/cXen_FoxA2_CR_rep2/cXen_FoxA2_CR_rep2_0_120.bowtie_tune.macs2_summits.bed.meme_5000_sample/background --motif HWAARYAAACAAAVM /Extension_HDD1/Xen_PP/data/cXen_FoxA2_CR_rep2/cXen_FoxA2_CR_rep2_0_120.bowtie_tune.macs2_summits.bed.meme_5000_sample/meme_out/meme.xml /Extension_HDD1/Xen_PP/data/cXen_FoxA2_CR_rep2/cXen_FoxA2_CR_rep2_0_120.bowtie_tune.macs2_summits.bed.meme_5000_sample/cXen_FoxA2_CR_rep2_0_120.bowtie_tune.macs2_summits.bed.filtered_summits.padded_300.fa\n",
      "fimo ran successfully in 2.107747 seconds\n",
      "Starting fimo: fimo --parse-genomic-coord --verbosity 1 --oc /Extension_HDD1/Xen_PP/data/cXen_FoxA2_CR_rep2/cXen_FoxA2_CR_rep2_0_120.bowtie_tune.macs2_summits.bed.meme_5000_sample/fimo_out_2 --bgfile /Extension_HDD1/Xen_PP/data/cXen_FoxA2_CR_rep2/cXen_FoxA2_CR_rep2_0_120.bowtie_tune.macs2_summits.bed.meme_5000_sample/background --motif GSVGGGGGCGGGGCB /Extension_HDD1/Xen_PP/data/cXen_FoxA2_CR_rep2/cXen_FoxA2_CR_rep2_0_120.bowtie_tune.macs2_summits.bed.meme_5000_sample/meme_out/meme.xml /Extension_HDD1/Xen_PP/data/cXen_FoxA2_CR_rep2/cXen_FoxA2_CR_rep2_0_120.bowtie_tune.macs2_summits.bed.meme_5000_sample/cXen_FoxA2_CR_rep2_0_120.bowtie_tune.macs2_summits.bed.filtered_summits.padded_300.fa\n",
      "fimo ran successfully in 2.055414 seconds\n",
      "Starting fimo: fimo --parse-genomic-coord --verbosity 1 --oc /Extension_HDD1/Xen_PP/data/cXen_FoxA2_CR_rep2/cXen_FoxA2_CR_rep2_0_120.bowtie_tune.macs2_summits.bed.meme_5000_sample/fimo_out_3 --bgfile /Extension_HDD1/Xen_PP/data/cXen_FoxA2_CR_rep2/cXen_FoxA2_CR_rep2_0_120.bowtie_tune.macs2_summits.bed.meme_5000_sample/background --motif 3-RAACAATGGM /Extension_HDD1/Xen_PP/data/cXen_FoxA2_CR_rep2/cXen_FoxA2_CR_rep2_0_120.bowtie_tune.macs2_summits.bed.meme_5000_sample/streme_out/streme.xml /Extension_HDD1/Xen_PP/data/cXen_FoxA2_CR_rep2/cXen_FoxA2_CR_rep2_0_120.bowtie_tune.macs2_summits.bed.meme_5000_sample/cXen_FoxA2_CR_rep2_0_120.bowtie_tune.macs2_summits.bed.filtered_summits.padded_300.fa\n",
      "fimo ran successfully in 1.635061 seconds\n",
      "Starting fimo: fimo --parse-genomic-coord --verbosity 1 --oc /Extension_HDD1/Xen_PP/data/cXen_FoxA2_CR_rep2/cXen_FoxA2_CR_rep2_0_120.bowtie_tune.macs2_summits.bed.meme_5000_sample/fimo_out_4 --bgfile /Extension_HDD1/Xen_PP/data/cXen_FoxA2_CR_rep2/cXen_FoxA2_CR_rep2_0_120.bowtie_tune.macs2_summits.bed.meme_5000_sample/background --motif 4-AGATAAGVD /Extension_HDD1/Xen_PP/data/cXen_FoxA2_CR_rep2/cXen_FoxA2_CR_rep2_0_120.bowtie_tune.macs2_summits.bed.meme_5000_sample/streme_out/streme.xml /Extension_HDD1/Xen_PP/data/cXen_FoxA2_CR_rep2/cXen_FoxA2_CR_rep2_0_120.bowtie_tune.macs2_summits.bed.meme_5000_sample/cXen_FoxA2_CR_rep2_0_120.bowtie_tune.macs2_summits.bed.filtered_summits.padded_300.fa\n",
      "fimo ran successfully in 1.875567 seconds\n",
      "Starting fimo: fimo --parse-genomic-coord --verbosity 1 --oc /Extension_HDD1/Xen_PP/data/cXen_FoxA2_CR_rep2/cXen_FoxA2_CR_rep2_0_120.bowtie_tune.macs2_summits.bed.meme_5000_sample/fimo_out_5 --bgfile /Extension_HDD1/Xen_PP/data/cXen_FoxA2_CR_rep2/cXen_FoxA2_CR_rep2_0_120.bowtie_tune.macs2_summits.bed.meme_5000_sample/background --motif 5-RTGASTCAY /Extension_HDD1/Xen_PP/data/cXen_FoxA2_CR_rep2/cXen_FoxA2_CR_rep2_0_120.bowtie_tune.macs2_summits.bed.meme_5000_sample/streme_out/streme.xml /Extension_HDD1/Xen_PP/data/cXen_FoxA2_CR_rep2/cXen_FoxA2_CR_rep2_0_120.bowtie_tune.macs2_summits.bed.meme_5000_sample/cXen_FoxA2_CR_rep2_0_120.bowtie_tune.macs2_summits.bed.filtered_summits.padded_300.fa\n",
      "fimo ran successfully in 1.83946 seconds\n",
      "Starting fimo: fimo --parse-genomic-coord --verbosity 1 --oc /Extension_HDD1/Xen_PP/data/cXen_FoxA2_CR_rep2/cXen_FoxA2_CR_rep2_0_120.bowtie_tune.macs2_summits.bed.meme_5000_sample/fimo_out_6 --bgfile /Extension_HDD1/Xen_PP/data/cXen_FoxA2_CR_rep2/cXen_FoxA2_CR_rep2_0_120.bowtie_tune.macs2_summits.bed.meme_5000_sample/background --motif 7-NVTGACGTCABN /Extension_HDD1/Xen_PP/data/cXen_FoxA2_CR_rep2/cXen_FoxA2_CR_rep2_0_120.bowtie_tune.macs2_summits.bed.meme_5000_sample/streme_out/streme.xml /Extension_HDD1/Xen_PP/data/cXen_FoxA2_CR_rep2/cXen_FoxA2_CR_rep2_0_120.bowtie_tune.macs2_summits.bed.meme_5000_sample/cXen_FoxA2_CR_rep2_0_120.bowtie_tune.macs2_summits.bed.filtered_summits.padded_300.fa\n",
      "fimo ran successfully in 1.878214 seconds\n",
      "Starting fimo: fimo --parse-genomic-coord --verbosity 1 --oc /Extension_HDD1/Xen_PP/data/cXen_FoxA2_CR_rep2/cXen_FoxA2_CR_rep2_0_120.bowtie_tune.macs2_summits.bed.meme_5000_sample/fimo_out_7 --bgfile /Extension_HDD1/Xen_PP/data/cXen_FoxA2_CR_rep2/cXen_FoxA2_CR_rep2_0_120.bowtie_tune.macs2_summits.bed.meme_5000_sample/background --motif 9-MGTCACT /Extension_HDD1/Xen_PP/data/cXen_FoxA2_CR_rep2/cXen_FoxA2_CR_rep2_0_120.bowtie_tune.macs2_summits.bed.meme_5000_sample/streme_out/streme.xml /Extension_HDD1/Xen_PP/data/cXen_FoxA2_CR_rep2/cXen_FoxA2_CR_rep2_0_120.bowtie_tune.macs2_summits.bed.meme_5000_sample/cXen_FoxA2_CR_rep2_0_120.bowtie_tune.macs2_summits.bed.filtered_summits.padded_300.fa\n",
      "fimo ran successfully in 1.730029 seconds\n",
      "Starting fimo: fimo --parse-genomic-coord --verbosity 1 --oc /Extension_HDD1/Xen_PP/data/cXen_FoxA2_CR_rep2/cXen_FoxA2_CR_rep2_0_120.bowtie_tune.macs2_summits.bed.meme_5000_sample/fimo_out_8 --bgfile /Extension_HDD1/Xen_PP/data/cXen_FoxA2_CR_rep2/cXen_FoxA2_CR_rep2_0_120.bowtie_tune.macs2_summits.bed.meme_5000_sample/background --motif 10-GCGCATGCGC /Extension_HDD1/Xen_PP/data/cXen_FoxA2_CR_rep2/cXen_FoxA2_CR_rep2_0_120.bowtie_tune.macs2_summits.bed.meme_5000_sample/streme_out/streme.xml /Extension_HDD1/Xen_PP/data/cXen_FoxA2_CR_rep2/cXen_FoxA2_CR_rep2_0_120.bowtie_tune.macs2_summits.bed.meme_5000_sample/cXen_FoxA2_CR_rep2_0_120.bowtie_tune.macs2_summits.bed.filtered_summits.padded_300.fa\n",
      "fimo ran successfully in 1.845306 seconds\n",
      "Starting fimo: fimo --parse-genomic-coord --verbosity 1 --oc /Extension_HDD1/Xen_PP/data/cXen_FoxA2_CR_rep2/cXen_FoxA2_CR_rep2_0_120.bowtie_tune.macs2_summits.bed.meme_5000_sample/fimo_out_9 --bgfile /Extension_HDD1/Xen_PP/data/cXen_FoxA2_CR_rep2/cXen_FoxA2_CR_rep2_0_120.bowtie_tune.macs2_summits.bed.meme_5000_sample/background --motif 11-HAGGAATGTN /Extension_HDD1/Xen_PP/data/cXen_FoxA2_CR_rep2/cXen_FoxA2_CR_rep2_0_120.bowtie_tune.macs2_summits.bed.meme_5000_sample/streme_out/streme.xml /Extension_HDD1/Xen_PP/data/cXen_FoxA2_CR_rep2/cXen_FoxA2_CR_rep2_0_120.bowtie_tune.macs2_summits.bed.meme_5000_sample/cXen_FoxA2_CR_rep2_0_120.bowtie_tune.macs2_summits.bed.filtered_summits.padded_300.fa\n",
      "fimo ran successfully in 1.852219 seconds\n",
      "Starting fimo: fimo --parse-genomic-coord --verbosity 1 --oc /Extension_HDD1/Xen_PP/data/cXen_FoxA2_CR_rep2/cXen_FoxA2_CR_rep2_0_120.bowtie_tune.macs2_summits.bed.meme_5000_sample/fimo_out_10 --bgfile /Extension_HDD1/Xen_PP/data/cXen_FoxA2_CR_rep2/cXen_FoxA2_CR_rep2_0_120.bowtie_tune.macs2_summits.bed.meme_5000_sample/background --motif 13-CACTTCCGG /Extension_HDD1/Xen_PP/data/cXen_FoxA2_CR_rep2/cXen_FoxA2_CR_rep2_0_120.bowtie_tune.macs2_summits.bed.meme_5000_sample/streme_out/streme.xml /Extension_HDD1/Xen_PP/data/cXen_FoxA2_CR_rep2/cXen_FoxA2_CR_rep2_0_120.bowtie_tune.macs2_summits.bed.meme_5000_sample/cXen_FoxA2_CR_rep2_0_120.bowtie_tune.macs2_summits.bed.filtered_summits.padded_300.fa\n",
      "fimo ran successfully in 1.869074 seconds\n",
      "Starting fimo: fimo --parse-genomic-coord --verbosity 1 --oc /Extension_HDD1/Xen_PP/data/cXen_FoxA2_CR_rep2/cXen_FoxA2_CR_rep2_0_120.bowtie_tune.macs2_summits.bed.meme_5000_sample/fimo_out_11 --bgfile /Extension_HDD1/Xen_PP/data/cXen_FoxA2_CR_rep2/cXen_FoxA2_CR_rep2_0_120.bowtie_tune.macs2_summits.bed.meme_5000_sample/background --motif 14-RACTACAWYTCCCAG /Extension_HDD1/Xen_PP/data/cXen_FoxA2_CR_rep2/cXen_FoxA2_CR_rep2_0_120.bowtie_tune.macs2_summits.bed.meme_5000_sample/streme_out/streme.xml /Extension_HDD1/Xen_PP/data/cXen_FoxA2_CR_rep2/cXen_FoxA2_CR_rep2_0_120.bowtie_tune.macs2_summits.bed.meme_5000_sample/cXen_FoxA2_CR_rep2_0_120.bowtie_tune.macs2_summits.bed.filtered_summits.padded_300.fa\n",
      "fimo ran successfully in 2.00232 seconds\n",
      "Starting fimo: fimo --parse-genomic-coord --verbosity 1 --oc /Extension_HDD1/Xen_PP/data/cXen_FoxA2_CR_rep2/cXen_FoxA2_CR_rep2_0_120.bowtie_tune.macs2_summits.bed.meme_5000_sample/fimo_out_12 --bgfile /Extension_HDD1/Xen_PP/data/cXen_FoxA2_CR_rep2/cXen_FoxA2_CR_rep2_0_120.bowtie_tune.macs2_summits.bed.meme_5000_sample/background --motif 15-CCATGGCAACC /Extension_HDD1/Xen_PP/data/cXen_FoxA2_CR_rep2/cXen_FoxA2_CR_rep2_0_120.bowtie_tune.macs2_summits.bed.meme_5000_sample/streme_out/streme.xml /Extension_HDD1/Xen_PP/data/cXen_FoxA2_CR_rep2/cXen_FoxA2_CR_rep2_0_120.bowtie_tune.macs2_summits.bed.meme_5000_sample/cXen_FoxA2_CR_rep2_0_120.bowtie_tune.macs2_summits.bed.filtered_summits.padded_300.fa\n",
      "fimo ran successfully in 1.86943 seconds\n",
      "Starting fimo: fimo --parse-genomic-coord --verbosity 1 --oc /Extension_HDD1/Xen_PP/data/cXen_FoxA2_CR_rep2/cXen_FoxA2_CR_rep2_0_120.bowtie_tune.macs2_summits.bed.meme_5000_sample/fimo_out_13 --bgfile /Extension_HDD1/Xen_PP/data/cXen_FoxA2_CR_rep2/cXen_FoxA2_CR_rep2_0_120.bowtie_tune.macs2_summits.bed.meme_5000_sample/background --motif 17-TCTCGCGAGA /Extension_HDD1/Xen_PP/data/cXen_FoxA2_CR_rep2/cXen_FoxA2_CR_rep2_0_120.bowtie_tune.macs2_summits.bed.meme_5000_sample/streme_out/streme.xml /Extension_HDD1/Xen_PP/data/cXen_FoxA2_CR_rep2/cXen_FoxA2_CR_rep2_0_120.bowtie_tune.macs2_summits.bed.meme_5000_sample/cXen_FoxA2_CR_rep2_0_120.bowtie_tune.macs2_summits.bed.filtered_summits.padded_300.fa\n",
      "fimo ran successfully in 1.627472 seconds\n",
      "Starting meme-chip_html_to_tsv: meme-chip_html_to_tsv /Extension_HDD1/Xen_PP/data/cXen_FoxA2_CR_rep2/cXen_FoxA2_CR_rep2_0_120.bowtie_tune.macs2_summits.bed.meme_5000_sample//meme-chip.html /Extension_HDD1/Xen_PP/data/cXen_FoxA2_CR_rep2/cXen_FoxA2_CR_rep2_0_120.bowtie_tune.macs2_summits.bed.meme_5000_sample//summary.tsv \"meme-chip -oc /Extension_HDD1/Xen_PP/data/cXen_FoxA2_CR_rep2/cXen_FoxA2_CR_rep2_0_120.bowtie_tune.macs2_summits.bed.meme_5000_sample/ -streme-nmotifs 20 -meme-nmotifs 20 /Extension_HDD1/Xen_PP/data/cXen_FoxA2_CR_rep2/cXen_FoxA2_CR_rep2_0_120.bowtie_tune.macs2_summits.bed.filtered_summits.padded_300.fa -meme-p 10 -meme-searchsize 1500000\" 5.3.0 \"Wed Nov 25 19\\:19\\:29 2020 -0800\"\n",
      "meme-chip_html_to_tsv ran successfully in 0.312877 seconds\n"
     ]
    },
    {
     "data": {
      "text/plain": [
       "CompletedProcess(args='meme-chip -oc /Extension_HDD1/Xen_PP/data/cXen_FoxA2_CR_rep2/cXen_FoxA2_CR_rep2_0_120.bowtie_tune.macs2_summits.bed.meme_5000_sample/ -streme-nmotifs 20 -meme-nmotifs 20 /Extension_HDD1/Xen_PP/data/cXen_FoxA2_CR_rep2/cXen_FoxA2_CR_rep2_0_120.bowtie_tune.macs2_summits.bed.filtered_summits.padded_300.fa -meme-p 10 -meme-searchsize 1500000', returncode=0)"
      ]
     },
     "execution_count": 12,
     "metadata": {},
     "output_type": "execute_result"
    }
   ],
   "source": [
    "sample_n_peaks = 5000\n",
    "meme_outdir = f\"{out_prefix}.meme_{sample_n_peaks}_sample/\"\n",
    "subprocess.run(\n",
    "    f\"meme-chip -oc {meme_outdir} -streme-nmotifs 20 -meme-nmotifs 20 {filtered_padded_peaks_fa} -meme-p 10 -meme-searchsize {sample_n_peaks * peak_size}\",\n",
    "    shell=True,\n",
    ")"
   ]
  },
  {
   "cell_type": "code",
   "execution_count": null,
   "id": "a584eaac-c933-45a1-acb8-a387aa9eede1",
   "metadata": {},
   "outputs": [],
   "source": [
    "# CutMatrix\n",
    "\n",
    "samtools view -b -h -f 3 -F 4 -F 8 -o outbam_dup.marked_Ctcf-0-120_sorted.bam dup.marked_Ctcf-0-120_sorted.bam\n",
    "\n",
    "samtools index outbam_dup.marked_Ctcf-0-120_sorted.bam -@ 30\n",
    "\n",
    "gff2bed < fimo_out_2/fimo.gff | awk 'BEGIN {IFS=\"\\t\"; OFS=\"\\t\";} {print $1,$2,$3,$4,$5,$6}' > fimo_out_2/fimo.bed\n",
    "\n",
    "\n",
    "make_cut_matrix -v -b '(25-150 1)' -d -o 0 -r 100 -p 1 -f 3 -F 4 -F 8 -q 0 /Extension_HDD1/mouse_embryo_sc_rna_seq/mESC_PrE/hts.igb.uci.edu/paulap21061704/outbam_dup.marked_Ctcf-0-120_sorted.bam fimo_out_2/fimo.bed > fimo_out_2/fimo.cuts.freq.txt\n",
    "\n",
    "\n",
    "#Count motif length \n",
    "\n",
    "tmp=`echo fimo_out_5 |cut -d \".\" -f3|wc -c`\n",
    "mlen=$(( tmp - 1 ))\n",
    "\n",
    "\n",
    "Rscript ./run_centipede_parker.R fimo_out_2/fimo.cuts.freq.txt fimo_out_2/fimo.bed fimo_out_2/fimo.png 10"
   ]
  },
  {
   "cell_type": "code",
   "execution_count": null,
   "id": "3da6e1fd-1779-4667-93a8-7c82ad7d5b5c",
   "metadata": {},
   "outputs": [],
   "source": []
  },
  {
   "cell_type": "code",
   "execution_count": null,
   "id": "c4efb14c-60bb-4224-bc5a-fac9009c6e17",
   "metadata": {},
   "outputs": [],
   "source": []
  }
 ],
 "metadata": {
  "kernelspec": {
   "display_name": "macs2",
   "language": "python",
   "name": "macs2"
  },
  "language_info": {
   "codemirror_mode": {
    "name": "ipython",
    "version": 3
   },
   "file_extension": ".py",
   "mimetype": "text/x-python",
   "name": "python",
   "nbconvert_exporter": "python",
   "pygments_lexer": "ipython3",
   "version": "3.9.6"
  }
 },
 "nbformat": 4,
 "nbformat_minor": 5
}
